{
 "cells": [
  {
   "cell_type": "code",
   "execution_count": 1,
   "metadata": {
    "pycharm": {
     "name": "#%%\n"
    }
   },
   "outputs": [
    {
     "name": "stderr",
     "output_type": "stream",
     "text": [
      "C:\\Users\\lukov\\miniconda3\\envs\\dd\\lib\\site-packages\\tqdm\\auto.py:22: TqdmWarning: IProgress not found. Please update jupyter and ipywidgets. See https://ipywidgets.readthedocs.io/en/stable/user_install.html\n",
      "  from .autonotebook import tqdm as notebook_tqdm\n"
     ]
    }
   ],
   "source": [
    "%load_ext autoreload\n",
    "%autoreload 2\n",
    "\n",
    "from copy import deepcopy\n",
    "\n",
    "import torch\n",
    "import torch.nn as nn\n",
    "import matplotlib as mpl\n",
    "from matplotlib import pyplot as plt\n",
    "import numpy as np\n",
    "import math\n",
    "import os, sys\n",
    "from tqdm import tqdm\n",
    "import random\n",
    "\n",
    "from denoising_diffusion_pytorch import GaussianDiffusion\n",
    "from denoising_diffusion_pytorch.denoising_diffusion_pytorch import SinusoidalPosEmb, unnormalize_to_zero_to_one\n",
    "from denoising_diffusion_pytorch.progressive_distillation import ProgressiveDistillationGaussianDiffusion\n"
   ]
  },
  {
   "cell_type": "code",
   "execution_count": 2,
   "metadata": {
    "pycharm": {
     "name": "#%%\n"
    }
   },
   "outputs": [],
   "source": [
    "plt.rcParams['figure.figsize'] = [12, 5]"
   ]
  },
  {
   "cell_type": "code",
   "execution_count": 3,
   "metadata": {
    "pycharm": {
     "name": "#%%\n"
    }
   },
   "outputs": [],
   "source": [
    "\n",
    "class OneDModel(torch.nn.Module):\n",
    "    def __init__(self, dim=16, **kw):\n",
    "        super().__init__(**kw)\n",
    "        self.channels = self.out_dim = 1\n",
    "        self.self_condition = False\n",
    "        time_dim = dim * 4\n",
    "\n",
    "        sinu_pos_emb = SinusoidalPosEmb(dim)\n",
    "\n",
    "        self.time_mlp = nn.Sequential(\n",
    "            sinu_pos_emb,\n",
    "            nn.Linear(dim, time_dim),\n",
    "            nn.GELU(),\n",
    "            nn.Linear(time_dim, dim)\n",
    "        )\n",
    "\n",
    "        self.main = torch.nn.ModuleList([\n",
    "            torch.nn.Linear(1, dim),\n",
    "            torch.nn.GELU(),\n",
    "            torch.nn.Linear(dim, dim),\n",
    "            torch.nn.GELU(),\n",
    "            torch.nn.Linear(dim, dim),\n",
    "            torch.nn.GELU(),\n",
    "            torch.nn.Linear(dim, dim),\n",
    "            torch.nn.GELU(),\n",
    "            torch.nn.Linear(dim, 1)\n",
    "        ])\n",
    "\n",
    "    def forward(self, x_t, t, self_cond=None):\n",
    "        \"\"\" x: (batsize, 1, 1, 1)\"\"\"\n",
    "        x_t = x_t.squeeze(-1).squeeze(-1)\n",
    "\n",
    "        temb = self.time_mlp(t)\n",
    "\n",
    "        h = self.main[0](x_t)\n",
    "        h = h + temb\n",
    "        for layer in self.main[1:]:\n",
    "            h = layer(h)\n",
    "\n",
    "        h = h[:, :, None, None]\n",
    "        return h\n",
    "\n",
    "\n",
    "class OneDDataset(torch.utils.data.Dataset):\n",
    "    def __init__(self, **kw):\n",
    "        super().__init__(**kw)\n",
    "        self.peaks = [0, 0.2, 0.8, 1]\n",
    "        self.var = 0.001\n",
    "\n",
    "    def __getitem__(self, i):\n",
    "        # randomly choose one of the peaks\n",
    "        ret = random.choice(self.peaks)\n",
    "        ret = ret + random.gauss(0, self.var)\n",
    "        return torch.tensor([ret])[:, None, None]\n",
    "\n",
    "    def __len__(self):\n",
    "        return 4000\n",
    "\n",
    "    def __iter__(self):\n",
    "        for i in range(len(self)):\n",
    "            yield self[i]\n",
    "\n",
    "\n",
    "\n"
   ]
  },
  {
   "cell_type": "code",
   "execution_count": 4,
   "metadata": {
    "pycharm": {
     "name": "#%%\n"
    }
   },
   "outputs": [
    {
     "name": "stdout",
     "output_type": "stream",
     "text": [
      "4000\n"
     ]
    }
   ],
   "source": [
    "\n",
    "m = OneDModel(64)\n",
    "x = torch.randn((5, 1, 1, 1))\n",
    "t = torch.rand((5,))\n",
    "# print(x, t)\n",
    "\n",
    "# y = m(x, t)\n",
    "# print(y)\n",
    "timesteps = 512\n",
    "\n",
    "diffusion = ProgressiveDistillationGaussianDiffusion(model=m, image_size=1, timesteps=timesteps,  #)\n",
    "                                                     jumpsched=[1, 8, 64, 256, 512])\n",
    "                                                     # jumpsched = [1, 2,4,8,16,32, 64, 128, 256, 512])\n",
    "                                                     # jumpsched = 2)\n",
    "\n",
    "ds = OneDDataset()\n",
    "dl = torch.utils.data.DataLoader(ds, batch_size=256)\n",
    "\n",
    "print(len(ds))\n",
    "#samples = [x[0, 0, 0].item() for x in ds]\n",
    "#print(samples[0:100])\n",
    "# _ = plt.hist(samples, density=True, bins=100)\n",
    "# plt.show()"
   ]
  },
  {
   "cell_type": "code",
   "execution_count": null,
   "outputs": [],
   "source": [
    "device = torch.device(\"cuda:0\")\n",
    "diffusion.to(device)\n",
    "done = False"
   ],
   "metadata": {
    "collapsed": false,
    "pycharm": {
     "name": "#%%\n"
    }
   }
  },
  {
   "cell_type": "code",
   "execution_count": null,
   "outputs": [],
   "source": [
    "initepochs = 2000\n",
    "# train the base DDPM\n",
    "optimizer = torch.optim.Adam(diffusion.model.parameters(), lr=1e-3, betas=(0.9, 0.99))\n",
    "print(\"Training base DDPM\")\n",
    "with tqdm(initial=0, total=initepochs * len(dl)) as pbar:\n",
    "    for epoch in range(initepochs):\n",
    "        losses = []\n",
    "        for batch in dl:\n",
    "            batch = batch.to(device)\n",
    "\n",
    "            loss = diffusion(batch)\n",
    "            loss.backward()\n",
    "            losses.append(loss.cpu().item())\n",
    "\n",
    "            pbar.set_description(f'loss: {np.mean(losses):.4f}')\n",
    "\n",
    "            optimizer.step()\n",
    "            optimizer.zero_grad()\n",
    "\n",
    "            diffusion.on_after_optim_step()\n",
    "\n",
    "            pbar.update(1)\n",
    "\n",
    "# models.append(diffusion)\n",
    "print(\"done training\")\n"
   ],
   "metadata": {
    "collapsed": false,
    "pycharm": {
     "name": "#%%\n"
    }
   }
  },
  {
   "cell_type": "code",
   "execution_count": null,
   "outputs": [],
   "source": [
    "basemodel = deepcopy(diffusion)"
   ],
   "metadata": {
    "collapsed": false,
    "pycharm": {
     "name": "#%%\n"
    }
   }
  },
  {
   "cell_type": "code",
   "execution_count": null,
   "outputs": [],
   "source": [
    "sampled_images = basemodel.sample(batch_size=2000)\n",
    "print(sampled_images.shape)  # (4, 3, 128, 128)\n",
    "sampled_images = sampled_images[:, 0, 0, 0]\n",
    "# print(sampled_images)\n",
    "_ = plt.hist(sampled_images.cpu().numpy(), density=True, bins=200)\n",
    "plt.show()"
   ],
   "metadata": {
    "collapsed": false,
    "pycharm": {
     "name": "#%%\n"
    }
   }
  },
  {
   "cell_type": "code",
   "execution_count": null,
   "outputs": [],
   "source": [
    "diffusion = deepcopy(basemodel)\n",
    "diffusion.jumpsched = [1, 8, 64, 256, 512]\n",
    "diffusion.distillphase[0] = 0"
   ],
   "metadata": {
    "collapsed": false,
    "pycharm": {
     "name": "#%%\n"
    }
   }
  },
  {
   "cell_type": "code",
   "execution_count": null,
   "outputs": [],
   "source": [
    "distillepochs = 320\n",
    "# distill for first case (improved progressive distillation)\n",
    "optimizer = torch.optim.Adam(diffusion.model.parameters(), lr=1e-3, betas=(0.9, 0.99))\n",
    "models = []\n",
    "with tqdm(initial=0, total=(len(diffusion.jumpsched)-1) * distillepochs * len(dl)) as pbar:\n",
    "    for jumpsize in diffusion.jumpsched[1:]:\n",
    "        print(f\"Current jump size: {jumpsize}\")\n",
    "        diffusion.increase_jump_size()\n",
    "        print(f\"increased jump size from {diffusion.get_prev_jump_size()} to {diffusion.get_jump_size()}\")\n",
    "        \n",
    "        for epoch in range(distillepochs):\n",
    "            losses = []\n",
    "            for batch in dl:\n",
    "                batch = batch.to(device)\n",
    "\n",
    "                loss = diffusion(batch)\n",
    "                loss.backward()\n",
    "                losses.append(loss.cpu().item())\n",
    "\n",
    "                optimizer.step()\n",
    "                optimizer.zero_grad()\n",
    "\n",
    "                diffusion.on_after_optim_step()\n",
    "\n",
    "                pbar.update(1)\n",
    "                pbar.set_description(f'loss: {np.mean(losses):.6f}')\n",
    "                \n",
    "        print(f'loss: {np.mean(losses):.6f}')\n",
    "        models.append(deepcopy(diffusion))\n",
    "\n",
    "# models.append(diffusion)\n",
    "print(\"done training\")\n"
   ],
   "metadata": {
    "collapsed": false,
    "pycharm": {
     "name": "#%%\n"
    }
   }
  },
  {
   "cell_type": "code",
   "execution_count": null,
   "outputs": [],
   "source": [
    "\n",
    "for model in models:\n",
    "    sampled_images = model.sample(batch_size=2000)\n",
    "    print(sampled_images.shape)  # (4, 3, 128, 128)\n",
    "    sampled_images = sampled_images[:, 0, 0, 0]\n",
    "    # print(sampled_images)\n",
    "    _ = plt.hist(sampled_images.cpu().numpy(), density=True, bins=200)\n",
    "    plt.show()"
   ],
   "metadata": {
    "collapsed": false,
    "pycharm": {
     "name": "#%%\n"
    }
   }
  },
  {
   "cell_type": "code",
   "execution_count": null,
   "outputs": [],
   "source": [
    "models1 = models[:]"
   ],
   "metadata": {
    "collapsed": false,
    "pycharm": {
     "name": "#%%\n"
    }
   }
  },
  {
   "cell_type": "code",
   "execution_count": null,
   "outputs": [],
   "source": [
    "diffusion = deepcopy(basemodel)\n",
    "diffusion.jumpsched = [1, 2, 4, 8, 16, 32, 64, 128, 256, 512]\n",
    "diffusion.distillphase[0] = 0"
   ],
   "metadata": {
    "collapsed": false,
    "pycharm": {
     "name": "#%%\n"
    }
   }
  },
  {
   "cell_type": "code",
   "execution_count": null,
   "outputs": [],
   "source": [
    "distillepochs = 200\n",
    "# distill for first case (improved progressive distillation)\n",
    "optimizer = torch.optim.Adam(diffusion.model.parameters(), lr=1e-3, betas=(0.9, 0.99))\n",
    "models = []\n",
    "with tqdm(initial=0, total=(len(diffusion.jumpsched)-1) * distillepochs * len(dl)) as pbar:\n",
    "    for jumpsize in diffusion.jumpsched[1:]:\n",
    "        print(f\"Current jump size: {jumpsize}\")\n",
    "        diffusion.increase_jump_size()\n",
    "        print(f\"increased jump size from {diffusion.get_prev_jump_size()} to {diffusion.get_jump_size()}\")\n",
    "        \n",
    "        for epoch in range(distillepochs):\n",
    "            losses = []\n",
    "            for batch in dl:\n",
    "                batch = batch.to(device)\n",
    "\n",
    "                loss = diffusion(batch)\n",
    "                loss.backward()\n",
    "                losses.append(loss.cpu().item())\n",
    "\n",
    "                optimizer.step()\n",
    "                optimizer.zero_grad()\n",
    "\n",
    "                diffusion.on_after_optim_step()\n",
    "\n",
    "                pbar.update(1)\n",
    "                pbar.set_description(f'loss: {np.mean(losses):.6f}')\n",
    "                \n",
    "        print(f'loss: {np.mean(losses):.6f}')\n",
    "        models.append(deepcopy(diffusion))\n",
    "\n",
    "# models.append(diffusion)\n",
    "print(\"done training\")\n"
   ],
   "metadata": {
    "collapsed": false,
    "pycharm": {
     "name": "#%%\n"
    }
   }
  },
  {
   "cell_type": "code",
   "execution_count": null,
   "outputs": [],
   "source": [
    "\n",
    "for model in models:\n",
    "    sampled_images = model.sample(batch_size=2000)\n",
    "    print(sampled_images.shape)  # (4, 3, 128, 128)\n",
    "    sampled_images = sampled_images[:, 0, 0, 0]\n",
    "    # print(sampled_images)\n",
    "    _ = plt.hist(sampled_images.cpu().numpy(), density=True, bins=200)\n",
    "    plt.show()"
   ],
   "metadata": {
    "collapsed": false,
    "pycharm": {
     "name": "#%%\n"
    }
   }
  },
  {
   "cell_type": "code",
   "execution_count": null,
   "outputs": [],
   "source": [],
   "metadata": {
    "collapsed": false,
    "pycharm": {
     "name": "#%%\n"
    }
   }
  },
  {
   "cell_type": "code",
   "execution_count": null,
   "outputs": [],
   "source": [],
   "metadata": {
    "collapsed": false,
    "pycharm": {
     "name": "#%%\n"
    }
   }
  },
  {
   "cell_type": "code",
   "execution_count": null,
   "outputs": [],
   "source": [
    "def show_trajectories(model, refmodel, numtraj=10, range=(-1.2, 1.2)):\n",
    "    x_T = np.linspace(range[0], range[1], numtraj)\n",
    "    \n",
    "    sampled_images, times, imgacc, x0acc = refmodel.sample(numtraj, \n",
    "                                                        x_T=torch.tensor(x_T)[:, None, None, None].to(torch.float)\n",
    "                                                                     .to(diffusion.betas.device),\n",
    "                                                           return_trajectories=True)\n",
    "    \n",
    "    \n",
    "    print(len(times), len(imgacc))\n",
    "    \n",
    "    trajs = [[x_t_i] for x_t_i in x_T]\n",
    "    \n",
    "    for img in imgacc:\n",
    "        img = img[:,0,0,0].cpu().numpy()\n",
    "        for img_i, traj in zip(img, trajs):\n",
    "            traj.append(img_i)\n",
    "        \n",
    "    fig = plt.figure(figsize = (15,10))\n",
    "    ax = fig.add_subplot(111)\n",
    "    for traj in trajs:\n",
    "        ax.plot(times, traj, \"blue\")\n",
    "    ax.set_title('trajectories')\n",
    "    \n",
    "    sampled_images, times, imgacc, x0acc = model.sample(numtraj, \n",
    "                                                        x_T=torch.tensor(x_T)[:, None, None, None].to(torch.float)\n",
    "                                                                     .to(diffusion.betas.device),\n",
    "                                                       return_trajectories=True)\n",
    "    \n",
    "    print(len(times), len(imgacc))\n",
    "    \n",
    "    trajs = [[x_t_i] for x_t_i in x_T]\n",
    "    \n",
    "    for img in imgacc:\n",
    "        img = img[:,0,0,0].cpu().numpy()\n",
    "        for img_i, traj in zip(img, trajs):\n",
    "            traj.append(img_i)\n",
    "        \n",
    "    for traj in trajs:\n",
    "        ax.plot(times, traj, \"ro-\")\n",
    "    ax.set_title('trajectories')\n",
    "\n",
    "    plt.show()\n",
    "\n",
    "    return trajs"
   ],
   "metadata": {
    "collapsed": false,
    "pycharm": {
     "name": "#%%\n"
    }
   }
  },
  {
   "cell_type": "code",
   "execution_count": null,
   "outputs": [],
   "source": [
    "_ = show_trajectories(models1[-3], basemodel, numtraj=21)"
   ],
   "metadata": {
    "collapsed": false,
    "pycharm": {
     "name": "#%%\n"
    }
   }
  },
  {
   "cell_type": "code",
   "execution_count": null,
   "outputs": [],
   "source": [
    "_ = show_trajectories(models[-4], basemodel, numtraj=21)"
   ],
   "metadata": {
    "collapsed": false,
    "pycharm": {
     "name": "#%%\n"
    }
   }
  },
  {
   "cell_type": "code",
   "execution_count": null,
   "outputs": [],
   "source": [
    "def compute_traj_dist(model, model2, refmodel, batsize=2000):\n",
    "    x_T = torch.randn((batsize, 1, 1, 1)).to(device)\n",
    "    samples = model.sample(batsize, x_T=x_T)\n",
    "    samples2 = model2.sample(batsize, x_T=x_T)\n",
    "    refsamples = refmodel.sample(batsize, x_T=x_T)\n",
    "    ret = torch.norm(samples - refsamples)**2\n",
    "    ret2 = torch.norm(samples2 - refsamples)**2\n",
    "    return ret, ret2\n",
    "    # print(((samples - refsamples) ** 2).sum())\n",
    "    # print(samples[:5], refsamples[:5])"
   ],
   "metadata": {
    "collapsed": false,
    "pycharm": {
     "name": "#%%\n"
    }
   }
  },
  {
   "cell_type": "code",
   "execution_count": null,
   "outputs": [],
   "source": [
    "retas, retbs = [], []\n",
    "for _ in range(20):\n",
    "    reta, retb = compute_traj_dist(models1[-1], models[-1], basemodel)\n",
    "    retas.append(reta)\n",
    "    retbs.append(retb)\n",
    "    \n",
    "retas = torch.stack(retas)\n",
    "retbs = torch.stack(retbs)\n",
    "    \n",
    "print(f\"{torch.mean(retas).item():.4f}+-{torch.std(retas):.4f}, {torch.mean(retbs).item():.4f}+-{torch.std(retbs):.4f}\")"
   ],
   "metadata": {
    "collapsed": false,
    "pycharm": {
     "name": "#%%\n"
    }
   }
  },
  {
   "cell_type": "code",
   "execution_count": null,
   "outputs": [],
   "source": [],
   "metadata": {
    "collapsed": false,
    "pycharm": {
     "name": "#%%\n"
    }
   }
  },
  {
   "cell_type": "code",
   "execution_count": 9,
   "metadata": {
    "pycharm": {
     "name": "#%%\n"
    }
   },
   "outputs": [
    {
     "name": "stderr",
     "output_type": "stream",
     "text": [
      "sampling loop time step: 100%|█████████████████████████████████████████████████████| 512/512 [00:00<00:00, 1230.49it/s]\n"
     ]
    },
    {
     "name": "stdout",
     "output_type": "stream",
     "text": [
      "torch.Size([2000, 1, 1, 1])\n"
     ]
    },
    {
     "data": {
      "image/png": "[encoded data removed]",
      "text/plain": [
       "<Figure size 864x360 with 1 Axes>"
      ]
     },
     "metadata": {
      "needs_background": "light"
     },
     "output_type": "display_data"
    }
   ],
   "source": [
    "sampled_images = basemodel.sample(batch_size=2000)\n",
    "print(sampled_images.shape)  # (4, 3, 128, 128)\n",
    "sampled_images = sampled_images[:, 0, 0, 0]\n",
    "# print(sampled_images)\n",
    "_ = plt.hist(sampled_images.cpu().numpy(), density=True, bins=200)\n",
    "plt.show()"
   ]
  },
  {
   "cell_type": "code",
   "execution_count": 10,
   "metadata": {
    "pycharm": {
     "name": "#%%\n"
    }
   },
   "outputs": [],
   "source": [
    "diffusion = deepcopy(basemodel)\n",
    "diffusion.jumpsched = [1, 8, 64, 256, 512]\n",
    "diffusion.distillphase[0] = 0"
   ]
  },
  {
   "cell_type": "code",
   "execution_count": 11,
   "metadata": {
    "pycharm": {
     "name": "#%%\n"
    }
   },
   "outputs": [
    {
     "name": "stderr",
     "output_type": "stream",
     "text": [
      "loss: 0.005067:   0%|                                                                | 5/20480 [00:00<13:03, 26.13it/s]"
     ]
    },
    {
     "name": "stdout",
     "output_type": "stream",
     "text": [
      "Current jump size: 8\n",
      "increased jump size from 1 to 8\n"
     ]
    },
    {
     "name": "stderr",
     "output_type": "stream",
     "text": [
      "loss: 0.011679:  25%|███████████████▎                                             | 5131/20480 [01:19<04:01, 63.51it/s]"
     ]
    },
    {
     "name": "stdout",
     "output_type": "stream",
     "text": [
      "loss: 0.000022\n",
      "Current jump size: 64\n",
      "increased jump size from 8 to 64\n"
     ]
    },
    {
     "name": "stderr",
     "output_type": "stream",
     "text": [
      "loss: 0.029005:  50%|██████████████████████████████                              | 10256/20480 [02:37<02:20, 72.81it/s]"
     ]
    },
    {
     "name": "stdout",
     "output_type": "stream",
     "text": [
      "loss: 0.000447\n",
      "Current jump size: 256\n",
      "increased jump size from 64 to 256\n"
     ]
    },
    {
     "name": "stderr",
     "output_type": "stream",
     "text": [
      "loss: 0.037162:  75%|█████████████████████████████████████████████               | 15379/20480 [03:38<00:56, 90.25it/s]"
     ]
    },
    {
     "name": "stdout",
     "output_type": "stream",
     "text": [
      "loss: 0.000214\n",
      "Current jump size: 512\n",
      "increased jump size from 256 to 512\n"
     ]
    },
    {
     "name": "stderr",
     "output_type": "stream",
     "text": [
      "loss: 0.000002: 100%|████████████████████████████████████████████████████████████| 20480/20480 [04:31<00:00, 75.39it/s]"
     ]
    },
    {
     "name": "stdout",
     "output_type": "stream",
     "text": [
      "loss: 0.000002\n",
      "done training\n"
     ]
    },
    {
     "name": "stderr",
     "output_type": "stream",
     "text": [
      "\n"
     ]
    }
   ],
   "source": [
    "distillepochs = 320\n",
    "# distill for first case (improved progressive distillation)\n",
    "optimizer = torch.optim.Adam(diffusion.model.parameters(), lr=1e-3, betas=(0.9, 0.99))\n",
    "models = []\n",
    "with tqdm(initial=0, total=(len(diffusion.jumpsched)-1) * distillepochs * len(dl)) as pbar:\n",
    "    for jumpsize in diffusion.jumpsched[1:]:\n",
    "        print(f\"Current jump size: {jumpsize}\")\n",
    "        diffusion.increase_jump_size()\n",
    "        print(f\"increased jump size from {diffusion.get_prev_jump_size()} to {diffusion.get_jump_size()}\")\n",
    "        \n",
    "        for epoch in range(distillepochs):\n",
    "            losses = []\n",
    "            for batch in dl:\n",
    "                batch = batch.to(device)\n",
    "\n",
    "                loss = diffusion(batch)\n",
    "                loss.backward()\n",
    "                losses.append(loss.cpu().item())\n",
    "\n",
    "                optimizer.step()\n",
    "                optimizer.zero_grad()\n",
    "\n",
    "                diffusion.on_after_optim_step()\n",
    "\n",
    "                pbar.update(1)\n",
    "                pbar.set_description(f'loss: {np.mean(losses):.6f}')\n",
    "                \n",
    "        print(f'loss: {np.mean(losses):.6f}')\n",
    "        models.append(deepcopy(diffusion))\n",
    "\n",
    "# models.append(diffusion)\n",
    "print(\"done training\")\n"
   ]
  },
  {
   "cell_type": "code",
   "execution_count": 12,
   "metadata": {
    "pycharm": {
     "name": "#%%\n"
    }
   },
   "outputs": [
    {
     "name": "stderr",
     "output_type": "stream",
     "text": [
      "sampling loop time step: 100%|███████████████████████████████████████████████████████| 64/64 [00:00<00:00, 1560.63it/s]\n"
     ]
    },
    {
     "name": "stdout",
     "output_type": "stream",
     "text": [
      "torch.Size([2000, 1, 1, 1])\n"
     ]
    },
    {
     "data": {
      "image/png": "[encoded data removed]",
      "text/plain": [
       "<Figure size 864x360 with 1 Axes>"
      ]
     },
     "metadata": {
      "needs_background": "light"
     },
     "output_type": "display_data"
    },
    {
     "name": "stderr",
     "output_type": "stream",
     "text": [
      "sampling loop time step: 100%|█████████████████████████████████████████████████████████| 8/8 [00:00<00:00, 1599.66it/s]\n"
     ]
    },
    {
     "name": "stdout",
     "output_type": "stream",
     "text": [
      "torch.Size([2000, 1, 1, 1])\n"
     ]
    },
    {
     "data": {
      "image/png": "[encoded data removed]",
      "text/plain": [
       "<Figure size 864x360 with 1 Axes>"
      ]
     },
     "metadata": {
      "needs_background": "light"
     },
     "output_type": "display_data"
    },
    {
     "name": "stderr",
     "output_type": "stream",
     "text": [
      "sampling loop time step: 100%|██████████████████████████████████████████████████████████| 2/2 [00:00<00:00, 999.12it/s]\n"
     ]
    },
    {
     "name": "stdout",
     "output_type": "stream",
     "text": [
      "torch.Size([2000, 1, 1, 1])\n"
     ]
    },
    {
     "data": {
      "image/png": "[encoded data removed]",
      "text/plain": [
       "<Figure size 864x360 with 1 Axes>"
      ]
     },
     "metadata": {
      "needs_background": "light"
     },
     "output_type": "display_data"
    },
    {
     "name": "stderr",
     "output_type": "stream",
     "text": [
      "sampling loop time step: 100%|█████████████████████████████████████████████████████████| 1/1 [00:00<00:00, 1001.51it/s]\n"
     ]
    },
    {
     "name": "stdout",
     "output_type": "stream",
     "text": [
      "torch.Size([2000, 1, 1, 1])\n"
     ]
    },
    {
     "data": {
      "image/png": "[encoded data removed]",
      "text/plain": [
       "<Figure size 864x360 with 1 Axes>"
      ]
     },
     "metadata": {
      "needs_background": "light"
     },
     "output_type": "display_data"
    }
   ],
   "source": [
    "\n",
    "for model in models:\n",
    "    sampled_images = model.sample(batch_size=2000)\n",
    "    print(sampled_images.shape)  # (4, 3, 128, 128)\n",
    "    sampled_images = sampled_images[:, 0, 0, 0]\n",
    "    # print(sampled_images)\n",
    "    _ = plt.hist(sampled_images.cpu().numpy(), density=True, bins=200)\n",
    "    plt.show()"
   ]
  },
  {
   "cell_type": "code",
   "execution_count": 13,
   "metadata": {
    "pycharm": {
     "name": "#%%\n"
    }
   },
   "outputs": [],
   "source": [
    "models1 = models[:]"
   ]
  },
  {
   "cell_type": "code",
   "execution_count": 14,
   "metadata": {
    "pycharm": {
     "name": "#%%\n"
    }
   },
   "outputs": [],
   "source": [
    "diffusion = deepcopy(basemodel)\n",
    "diffusion.jumpsched = [1, 2, 4, 8, 16, 32, 64, 128, 256, 512]\n",
    "diffusion.distillphase[0] = 0"
   ]
  },
  {
   "cell_type": "code",
   "execution_count": 15,
   "metadata": {
    "pycharm": {
     "name": "#%%\n"
    }
   },
   "outputs": [
    {
     "name": "stderr",
     "output_type": "stream",
     "text": [
      "loss: 0.005640:   0%|                                                                | 9/28800 [00:00<10:27, 45.86it/s]"
     ]
    },
    {
     "name": "stdout",
     "output_type": "stream",
     "text": [
      "Current jump size: 2\n",
      "increased jump size from 1 to 2\n"
     ]
    },
    {
     "name": "stderr",
     "output_type": "stream",
     "text": [
      "loss: 0.000509:  11%|██████▊                                                      | 3218/28800 [00:32<04:37, 92.06it/s]"
     ]
    },
    {
     "name": "stdout",
     "output_type": "stream",
     "text": [
      "loss: 0.000877\n",
      "Current jump size: 4\n",
      "increased jump size from 2 to 4\n"
     ]
    },
    {
     "name": "stderr",
     "output_type": "stream",
     "text": [
      "loss: 0.000367:  22%|█████████████▎                                              | 6418/28800 [01:03<03:42, 100.70it/s]"
     ]
    },
    {
     "name": "stdout",
     "output_type": "stream",
     "text": [
      "loss: 0.000426\n",
      "Current jump size: 8\n",
      "increased jump size from 4 to 8\n"
     ]
    },
    {
     "name": "stderr",
     "output_type": "stream",
     "text": [
      "loss: 0.000515:  33%|████████████████████▎                                        | 9618/28800 [01:34<03:14, 98.51it/s]"
     ]
    },
    {
     "name": "stdout",
     "output_type": "stream",
     "text": [
      "loss: 0.000010\n",
      "Current jump size: 16\n",
      "increased jump size from 8 to 16\n"
     ]
    },
    {
     "name": "stderr",
     "output_type": "stream",
     "text": [
      "loss: 0.000799:  45%|██████████████████████████▎                                | 12818/28800 [02:05<02:37, 101.36it/s]"
     ]
    },
    {
     "name": "stdout",
     "output_type": "stream",
     "text": [
      "loss: 0.000029\n",
      "Current jump size: 32\n",
      "increased jump size from 16 to 32\n"
     ]
    },
    {
     "name": "stderr",
     "output_type": "stream",
     "text": [
      "loss: 0.001205:  56%|████████████████████████████████▊                          | 16018/28800 [02:37<02:05, 102.06it/s]"
     ]
    },
    {
     "name": "stdout",
     "output_type": "stream",
     "text": [
      "loss: 0.000058\n",
      "Current jump size: 64\n",
      "increased jump size from 32 to 64\n"
     ]
    },
    {
     "name": "stderr",
     "output_type": "stream",
     "text": [
      "loss: 0.004001:  67%|███████████████████████████████████████▎                   | 19218/28800 [03:07<01:34, 101.92it/s]"
     ]
    },
    {
     "name": "stdout",
     "output_type": "stream",
     "text": [
      "loss: 0.000084\n",
      "Current jump size: 128\n",
      "increased jump size from 64 to 128\n"
     ]
    },
    {
     "name": "stderr",
     "output_type": "stream",
     "text": [
      "loss: 0.002958:  78%|█████████████████████████████████████████████▉             | 22418/28800 [03:38<01:02, 102.43it/s]"
     ]
    },
    {
     "name": "stdout",
     "output_type": "stream",
     "text": [
      "loss: 0.000639\n",
      "Current jump size: 256\n",
      "increased jump size from 128 to 256\n"
     ]
    },
    {
     "name": "stderr",
     "output_type": "stream",
     "text": [
      "loss: 0.047976:  89%|█████████████████████████████████████████████████████▎      | 25618/28800 [04:09<00:33, 94.58it/s]"
     ]
    },
    {
     "name": "stdout",
     "output_type": "stream",
     "text": [
      "loss: 0.000031\n",
      "Current jump size: 512\n",
      "increased jump size from 256 to 512\n"
     ]
    },
    {
     "name": "stderr",
     "output_type": "stream",
     "text": [
      "loss: 0.000068: 100%|███████████████████████████████████████████████████████████| 28800/28800 [04:40<00:00, 102.70it/s]"
     ]
    },
    {
     "name": "stdout",
     "output_type": "stream",
     "text": [
      "loss: 0.000068\n",
      "done training\n"
     ]
    },
    {
     "name": "stderr",
     "output_type": "stream",
     "text": [
      "\n"
     ]
    }
   ],
   "source": [
    "distillepochs = 200\n",
    "# distill for first case (improved progressive distillation)\n",
    "optimizer = torch.optim.Adam(diffusion.model.parameters(), lr=1e-3, betas=(0.9, 0.99))\n",
    "models = []\n",
    "with tqdm(initial=0, total=(len(diffusion.jumpsched)-1) * distillepochs * len(dl)) as pbar:\n",
    "    for jumpsize in diffusion.jumpsched[1:]:\n",
    "        print(f\"Current jump size: {jumpsize}\")\n",
    "        diffusion.increase_jump_size()\n",
    "        print(f\"increased jump size from {diffusion.get_prev_jump_size()} to {diffusion.get_jump_size()}\")\n",
    "        \n",
    "        for epoch in range(distillepochs):\n",
    "            losses = []\n",
    "            for batch in dl:\n",
    "                batch = batch.to(device)\n",
    "\n",
    "                loss = diffusion(batch)\n",
    "                loss.backward()\n",
    "                losses.append(loss.cpu().item())\n",
    "\n",
    "                optimizer.step()\n",
    "                optimizer.zero_grad()\n",
    "\n",
    "                diffusion.on_after_optim_step()\n",
    "\n",
    "                pbar.update(1)\n",
    "                pbar.set_description(f'loss: {np.mean(losses):.6f}')\n",
    "                \n",
    "        print(f'loss: {np.mean(losses):.6f}')\n",
    "        models.append(deepcopy(diffusion))\n",
    "\n",
    "# models.append(diffusion)\n",
    "print(\"done training\")\n"
   ]
  },
  {
   "cell_type": "code",
   "execution_count": null,
   "metadata": {
    "pycharm": {
     "name": "#%%\n"
    }
   },
   "outputs": [],
   "source": [
    "\n",
    "for model in models:\n",
    "    sampled_images = model.sample(batch_size=2000)\n",
    "    print(sampled_images.shape)  # (4, 3, 128, 128)\n",
    "    sampled_images = sampled_images[:, 0, 0, 0]\n",
    "    # print(sampled_images)\n",
    "    _ = plt.hist(sampled_images.cpu().numpy(), density=True, bins=200)\n",
    "    plt.show()"
   ]
  },
  {
   "cell_type": "code",
   "execution_count": null,
   "metadata": {
    "pycharm": {
     "name": "#%%\n"
    }
   },
   "outputs": [],
   "source": []
  },
  {
   "cell_type": "code",
   "execution_count": null,
   "metadata": {
    "pycharm": {
     "name": "#%%\n"
    }
   },
   "outputs": [],
   "source": []
  },
  {
   "cell_type": "code",
   "execution_count": null,
   "metadata": {
    "pycharm": {
     "name": "#%%\n"
    }
   },
   "outputs": [],
   "source": [
    "def show_trajectories(model, refmodel, numtraj=10, range=(-1.2, 1.2)):\n",
    "    x_T = np.linspace(range[0], range[1], numtraj)\n",
    "    \n",
    "    sampled_images, times, imgacc, x0acc = refmodel.sample(numtraj, \n",
    "                                                        x_T=torch.tensor(x_T)[:, None, None, None].to(torch.float)\n",
    "                                                                     .to(diffusion.betas.device),\n",
    "                                                           return_trajectories=True)\n",
    "    \n",
    "    \n",
    "    print(len(times), len(imgacc))\n",
    "    \n",
    "    trajs = [[x_t_i] for x_t_i in x_T]\n",
    "    \n",
    "    for img in imgacc:\n",
    "        img = img[:,0,0,0].cpu().numpy()\n",
    "        for img_i, traj in zip(img, trajs):\n",
    "            traj.append(img_i)\n",
    "        \n",
    "    fig = plt.figure(figsize = (15,10))\n",
    "    ax = fig.add_subplot(111)\n",
    "    for traj in trajs:\n",
    "        ax.plot(times, traj, \"blue\")\n",
    "    ax.set_title('trajectories')\n",
    "    \n",
    "    sampled_images, times, imgacc, x0acc = model.sample(numtraj, \n",
    "                                                        x_T=torch.tensor(x_T)[:, None, None, None].to(torch.float)\n",
    "                                                                     .to(diffusion.betas.device),\n",
    "                                                       return_trajectories=True)\n",
    "    \n",
    "    print(len(times), len(imgacc))\n",
    "    \n",
    "    trajs = [[x_t_i] for x_t_i in x_T]\n",
    "    \n",
    "    for img in imgacc:\n",
    "        img = img[:,0,0,0].cpu().numpy()\n",
    "        for img_i, traj in zip(img, trajs):\n",
    "            traj.append(img_i)\n",
    "        \n",
    "    for traj in trajs:\n",
    "        ax.plot(times, traj, \"ro-\")\n",
    "    ax.set_title('trajectories')\n",
    "\n",
    "    plt.show()\n",
    "\n",
    "    return trajs"
   ]
  },
  {
   "cell_type": "code",
   "execution_count": null,
   "metadata": {
    "pycharm": {
     "name": "#%%\n"
    }
   },
   "outputs": [],
   "source": [
    "_ = show_trajectories(models1[-3], basemodel, numtraj=21)"
   ]
  },
  {
   "cell_type": "code",
   "execution_count": null,
   "metadata": {
    "pycharm": {
     "name": "#%%\n"
    }
   },
   "outputs": [],
   "source": [
    "_ = show_trajectories(models[-4], basemodel, numtraj=21)"
   ]
  },
  {
   "cell_type": "code",
   "execution_count": null,
   "metadata": {
    "pycharm": {
     "name": "#%%\n"
    }
   },
   "outputs": [],
   "source": [
    "def compute_traj_dist(model, model2, refmodel, batsize=2000):\n",
    "    x_T = torch.randn((batsize, 1, 1, 1)).to(device)\n",
    "    samples = model.sample(batsize, x_T=x_T)\n",
    "    samples2 = model2.sample(batsize, x_T=x_T)\n",
    "    refsamples = refmodel.sample(batsize, x_T=x_T)\n",
    "    ret = torch.norm(samples - refsamples)**2\n",
    "    ret2 = torch.norm(samples2 - refsamples)**2\n",
    "    return ret, ret2\n",
    "    # print(((samples - refsamples) ** 2).sum())\n",
    "    # print(samples[:5], refsamples[:5])"
   ]
  },
  {
   "cell_type": "code",
   "execution_count": null,
   "metadata": {
    "pycharm": {
     "name": "#%%\n"
    }
   },
   "outputs": [],
   "source": [
    "retas, retbs = [], []\n",
    "for _ in range(20):\n",
    "    reta, retb = compute_traj_dist(models1[-1], models[-1], basemodel)\n",
    "    retas.append(reta)\n",
    "    retbs.append(retb)\n",
    "    \n",
    "retas = torch.stack(retas)\n",
    "retbs = torch.stack(retbs)\n",
    "    \n",
    "print(f\"{torch.mean(retas).item():.4f}+-{torch.std(retas):.4f}, {torch.mean(retbs).item():.4f}+-{torch.std(retbs):.4f}\")"
   ]
  },
  {
   "cell_type": "code",
   "execution_count": null,
   "metadata": {
    "pycharm": {
     "name": "#%%\n"
    }
   },
   "outputs": [],
   "source": []
  },
  {
   "cell_type": "code",
   "execution_count": 9,
   "metadata": {},
   "outputs": [
    {
     "name": "stderr",
     "output_type": "stream",
     "text": [
      "sampling loop time step: 100%|██████████████████████████████████████████████████████████████| 512/512 [00:00<00:00, 1484.29it/s]\n"
     ]
    },
    {
     "name": "stdout",
     "output_type": "stream",
     "text": [
      "torch.Size([2000, 1, 1, 1])\n"
     ]
    },
    {
     "data": {
      "image/png": "[encoded data removed]",
      "text/plain": [
       "<Figure size 432x288 with 1 Axes>"
      ]
     },
     "metadata": {
      "needs_background": "light"
     },
     "output_type": "display_data"
    }
   ],
   "source": [
    "sampled_images = basemodel.sample(batch_size=2000)\n",
    "print(sampled_images.shape)  # (4, 3, 128, 128)\n",
    "sampled_images = sampled_images[:, 0, 0, 0]\n",
    "# print(sampled_images)\n",
    "_ = plt.hist(sampled_images.cpu().numpy(), density=True, bins=200)\n",
    "plt.show()"
   ]
  },
  {
   "cell_type": "code",
   "execution_count": 10,
   "metadata": {},
   "outputs": [],
   "source": [
    "diffusion = deepcopy(basemodel)\n",
    "diffusion.jumpsched = [1, 8, 64, 256, 512]\n",
    "diffusion.distillphase[0] = 0"
   ]
  },
  {
   "cell_type": "code",
   "execution_count": 11,
   "metadata": {
    "scrolled": false
   },
   "outputs": [
    {
     "name": "stderr",
     "output_type": "stream",
     "text": [
      "loss: 0.003477:   0%|                                                                        | 15/20480 [00:00<04:20, 78.42it/s]"
     ]
    },
    {
     "name": "stdout",
     "output_type": "stream",
     "text": [
      "Current jump size: 8\n",
      "increased jump size from 1 to 8\n"
     ]
    },
    {
     "name": "stderr",
     "output_type": "stream",
     "text": [
      "loss: 0.010189:  25%|█████████████████▌                                                    | 5131/20480 [01:16<04:25, 57.76it/s]"
     ]
    },
    {
     "name": "stdout",
     "output_type": "stream",
     "text": [
      "loss: 0.000035\n",
      "Current jump size: 64\n",
      "increased jump size from 8 to 64\n"
     ]
    },
    {
     "name": "stderr",
     "output_type": "stream",
     "text": [
      "loss: 0.032370:  50%|██████████████████████████████████▌                                  | 10254/20480 [02:39<02:32, 66.96it/s]"
     ]
    },
    {
     "name": "stdout",
     "output_type": "stream",
     "text": [
      "loss: 0.000223\n",
      "Current jump size: 256\n",
      "increased jump size from 64 to 256\n"
     ]
    },
    {
     "name": "stderr",
     "output_type": "stream",
     "text": [
      "loss: 0.049838:  75%|███████████████████████████████████████████████████▊                 | 15379/20480 [03:44<00:58, 87.57it/s]"
     ]
    },
    {
     "name": "stdout",
     "output_type": "stream",
     "text": [
      "loss: 0.000130\n",
      "Current jump size: 512\n",
      "increased jump size from 256 to 512\n"
     ]
    },
    {
     "name": "stderr",
     "output_type": "stream",
     "text": [
      "loss: 0.000010: 100%|█████████████████████████████████████████████████████████████████████| 20480/20480 [04:41<00:00, 72.82it/s]"
     ]
    },
    {
     "name": "stdout",
     "output_type": "stream",
     "text": [
      "loss: 0.000010\n",
      "done training\n"
     ]
    },
    {
     "name": "stderr",
     "output_type": "stream",
     "text": [
      "\n"
     ]
    }
   ],
   "source": [
    "distillepochs = 320\n",
    "# distill for first case (improved progressive distillation)\n",
    "optimizer = torch.optim.Adam(diffusion.model.parameters(), lr=1e-3, betas=(0.9, 0.99))\n",
    "models = []\n",
    "with tqdm(initial=0, total=(len(diffusion.jumpsched)-1) * distillepochs * len(dl)) as pbar:\n",
    "    for jumpsize in diffusion.jumpsched[1:]:\n",
    "        print(f\"Current jump size: {jumpsize}\")\n",
    "        diffusion.increase_jump_size()\n",
    "        print(f\"increased jump size from {diffusion.get_prev_jump_size()} to {diffusion.get_jump_size()}\")\n",
    "        \n",
    "        for epoch in range(distillepochs):\n",
    "            losses = []\n",
    "            for batch in dl:\n",
    "                batch = batch.to(device)\n",
    "\n",
    "                loss = diffusion(batch)\n",
    "                loss.backward()\n",
    "                losses.append(loss.cpu().item())\n",
    "\n",
    "                optimizer.step()\n",
    "                optimizer.zero_grad()\n",
    "\n",
    "                diffusion.on_after_optim_step()\n",
    "\n",
    "                pbar.update(1)\n",
    "                pbar.set_description(f'loss: {np.mean(losses):.6f}')\n",
    "                \n",
    "        print(f'loss: {np.mean(losses):.6f}')\n",
    "        models.append(deepcopy(diffusion))\n",
    "\n",
    "# models.append(diffusion)\n",
    "print(\"done training\")\n"
   ]
  },
  {
   "cell_type": "code",
   "execution_count": 12,
   "metadata": {
    "scrolled": false
   },
   "outputs": [
    {
     "name": "stderr",
     "output_type": "stream",
     "text": [
      "sampling loop time step: 100%|████████████████████████████████████████████████████████████████| 64/64 [00:00<00:00, 1335.07it/s]\n"
     ]
    },
    {
     "name": "stdout",
     "output_type": "stream",
     "text": [
      "torch.Size([2000, 1, 1, 1])\n"
     ]
    },
    {
     "data": {
      "image/png": "[encoded data removed]",
      "text/plain": [
       "<Figure size 432x288 with 1 Axes>"
      ]
     },
     "metadata": {
      "needs_background": "light"
     },
     "output_type": "display_data"
    },
    {
     "name": "stderr",
     "output_type": "stream",
     "text": [
      "sampling loop time step: 100%|██████████████████████████████████████████████████████████████████| 8/8 [00:00<00:00, 1317.46it/s]\n"
     ]
    },
    {
     "name": "stdout",
     "output_type": "stream",
     "text": [
      "torch.Size([2000, 1, 1, 1])\n"
     ]
    },
    {
     "data": {
      "image/png": "[encoded data removed]",
      "text/plain": [
       "<Figure size 432x288 with 1 Axes>"
      ]
     },
     "metadata": {
      "needs_background": "light"
     },
     "output_type": "display_data"
    },
    {
     "name": "stderr",
     "output_type": "stream",
     "text": [
      "sampling loop time step: 100%|███████████████████████████████████████████████████████████████████| 2/2 [00:00<00:00, 956.08it/s]\n"
     ]
    },
    {
     "name": "stdout",
     "output_type": "stream",
     "text": [
      "torch.Size([2000, 1, 1, 1])\n"
     ]
    },
    {
     "data": {
      "image/png": "[encoded data removed]",
      "text/plain": [
       "<Figure size 432x288 with 1 Axes>"
      ]
     },
     "metadata": {
      "needs_background": "light"
     },
     "output_type": "display_data"
    },
    {
     "name": "stderr",
     "output_type": "stream",
     "text": [
      "sampling loop time step: 100%|███████████████████████████████████████████████████████████████████| 1/1 [00:00<00:00, 723.16it/s]\n"
     ]
    },
    {
     "name": "stdout",
     "output_type": "stream",
     "text": [
      "torch.Size([2000, 1, 1, 1])\n"
     ]
    },
    {
     "data": {
      "image/png": "[encoded data removed]",
      "text/plain": [
       "<Figure size 432x288 with 1 Axes>"
      ]
     },
     "metadata": {
      "needs_background": "light"
     },
     "output_type": "display_data"
    }
   ],
   "source": [
    "\n",
    "for model in models:\n",
    "    sampled_images = model.sample(batch_size=2000)\n",
    "    print(sampled_images.shape)  # (4, 3, 128, 128)\n",
    "    sampled_images = sampled_images[:, 0, 0, 0]\n",
    "    # print(sampled_images)\n",
    "    _ = plt.hist(sampled_images.cpu().numpy(), density=True, bins=200)\n",
    "    plt.show()"
   ]
  },
  {
   "cell_type": "code",
   "execution_count": 13,
   "metadata": {},
   "outputs": [],
   "source": [
    "models1 = models[:]"
   ]
  },
  {
   "cell_type": "code",
   "execution_count": 14,
   "metadata": {},
   "outputs": [],
   "source": [
    "diffusion = deepcopy(basemodel)\n",
    "diffusion.jumpsched = [1, 2, 4, 8, 16, 32, 64, 128, 256, 512]\n",
    "diffusion.distillphase[0] = 0"
   ]
  },
  {
   "cell_type": "code",
   "execution_count": 15,
   "metadata": {},
   "outputs": [
    {
     "name": "stderr",
     "output_type": "stream",
     "text": [
      "loss: 0.002127:   0%|                                                                        | 17/28800 [00:00<05:35, 85.82it/s]"
     ]
    },
    {
     "name": "stdout",
     "output_type": "stream",
     "text": [
      "Current jump size: 2\n",
      "increased jump size from 1 to 2\n"
     ]
    },
    {
     "name": "stderr",
     "output_type": "stream",
     "text": [
      "loss: 0.000324:  11%|███████▊                                                              | 3217/28800 [00:35<04:42, 90.43it/s]"
     ]
    },
    {
     "name": "stdout",
     "output_type": "stream",
     "text": [
      "loss: 0.000063\n",
      "Current jump size: 4\n",
      "increased jump size from 2 to 4\n"
     ]
    },
    {
     "name": "stderr",
     "output_type": "stream",
     "text": [
      "loss: 0.000473:  22%|███████████████▌                                                      | 6417/28800 [01:10<04:06, 90.88it/s]"
     ]
    },
    {
     "name": "stdout",
     "output_type": "stream",
     "text": [
      "loss: 0.000151\n",
      "Current jump size: 8\n",
      "increased jump size from 4 to 8\n"
     ]
    },
    {
     "name": "stderr",
     "output_type": "stream",
     "text": [
      "loss: 0.000339:  33%|███████████████████████▍                                              | 9618/28800 [01:45<03:36, 88.46it/s]"
     ]
    },
    {
     "name": "stdout",
     "output_type": "stream",
     "text": [
      "loss: 0.000123\n",
      "Current jump size: 16\n",
      "increased jump size from 8 to 16\n"
     ]
    },
    {
     "name": "stderr",
     "output_type": "stream",
     "text": [
      "loss: 0.001506:  44%|██████████████████████████████▋                                      | 12816/28800 [02:20<03:02, 87.51it/s]"
     ]
    },
    {
     "name": "stdout",
     "output_type": "stream",
     "text": [
      "loss: 0.000295\n",
      "Current jump size: 32\n",
      "increased jump size from 16 to 32\n"
     ]
    },
    {
     "name": "stderr",
     "output_type": "stream",
     "text": [
      "loss: 0.003125:  56%|██████████████████████████████████████▎                              | 16016/28800 [02:54<02:25, 87.83it/s]"
     ]
    },
    {
     "name": "stdout",
     "output_type": "stream",
     "text": [
      "loss: 0.000197\n",
      "Current jump size: 64\n",
      "increased jump size from 32 to 64\n"
     ]
    },
    {
     "name": "stderr",
     "output_type": "stream",
     "text": [
      "loss: 0.005444:  67%|██████████████████████████████████████████████                       | 19217/28800 [03:29<01:40, 95.38it/s]"
     ]
    },
    {
     "name": "stdout",
     "output_type": "stream",
     "text": [
      "loss: 0.000200\n",
      "Current jump size: 128\n",
      "increased jump size from 64 to 128\n"
     ]
    },
    {
     "name": "stderr",
     "output_type": "stream",
     "text": [
      "loss: 0.005607:  78%|█████████████████████████████████████████████████████▋               | 22417/28800 [04:06<01:13, 86.68it/s]"
     ]
    },
    {
     "name": "stdout",
     "output_type": "stream",
     "text": [
      "loss: 0.000675\n",
      "Current jump size: 256\n",
      "increased jump size from 128 to 256\n"
     ]
    },
    {
     "name": "stderr",
     "output_type": "stream",
     "text": [
      "loss: 0.048040:  89%|█████████████████████████████████████████████████████████████▎       | 25617/28800 [04:41<00:34, 92.98it/s]"
     ]
    },
    {
     "name": "stdout",
     "output_type": "stream",
     "text": [
      "loss: 0.000013\n",
      "Current jump size: 512\n",
      "increased jump size from 256 to 512\n"
     ]
    },
    {
     "name": "stderr",
     "output_type": "stream",
     "text": [
      "loss: 0.000011: 100%|█████████████████████████████████████████████████████████████████████| 28800/28800 [05:17<00:00, 90.74it/s]"
     ]
    },
    {
     "name": "stdout",
     "output_type": "stream",
     "text": [
      "loss: 0.000011\n",
      "done training\n"
     ]
    },
    {
     "name": "stderr",
     "output_type": "stream",
     "text": [
      "\n"
     ]
    }
   ],
   "source": [
    "distillepochs = 200\n",
    "# distill for first case (improved progressive distillation)\n",
    "optimizer = torch.optim.Adam(diffusion.model.parameters(), lr=1e-3, betas=(0.9, 0.99))\n",
    "models = []\n",
    "with tqdm(initial=0, total=(len(diffusion.jumpsched)-1) * distillepochs * len(dl)) as pbar:\n",
    "    for jumpsize in diffusion.jumpsched[1:]:\n",
    "        print(f\"Current jump size: {jumpsize}\")\n",
    "        diffusion.increase_jump_size()\n",
    "        print(f\"increased jump size from {diffusion.get_prev_jump_size()} to {diffusion.get_jump_size()}\")\n",
    "        \n",
    "        for epoch in range(distillepochs):\n",
    "            losses = []\n",
    "            for batch in dl:\n",
    "                batch = batch.to(device)\n",
    "\n",
    "                loss = diffusion(batch)\n",
    "                loss.backward()\n",
    "                losses.append(loss.cpu().item())\n",
    "\n",
    "                optimizer.step()\n",
    "                optimizer.zero_grad()\n",
    "\n",
    "                diffusion.on_after_optim_step()\n",
    "\n",
    "                pbar.update(1)\n",
    "                pbar.set_description(f'loss: {np.mean(losses):.6f}')\n",
    "                \n",
    "        print(f'loss: {np.mean(losses):.6f}')\n",
    "        models.append(deepcopy(diffusion))\n",
    "\n",
    "# models.append(diffusion)\n",
    "print(\"done training\")\n"
   ]
  },
  {
   "cell_type": "code",
   "execution_count": 16,
   "metadata": {
    "scrolled": false
   },
   "outputs": [
    {
     "name": "stderr",
     "output_type": "stream",
     "text": [
      "sampling loop time step: 100%|██████████████████████████████████████████████████████████████| 256/256 [00:00<00:00, 1297.98it/s]\n"
     ]
    },
    {
     "name": "stdout",
     "output_type": "stream",
     "text": [
      "torch.Size([2000, 1, 1, 1])\n"
     ]
    },
    {
     "data": {
      "image/png": "[encoded data removed]",
      "text/plain": [
       "<Figure size 432x288 with 1 Axes>"
      ]
     },
     "metadata": {
      "needs_background": "light"
     },
     "output_type": "display_data"
    },
    {
     "name": "stderr",
     "output_type": "stream",
     "text": [
      "sampling loop time step: 100%|██████████████████████████████████████████████████████████████| 128/128 [00:00<00:00, 1431.19it/s]\n"
     ]
    },
    {
     "name": "stdout",
     "output_type": "stream",
     "text": [
      "torch.Size([2000, 1, 1, 1])\n"
     ]
    },
    {
     "data": {
      "image/png": "[encoded data removed]",
      "text/plain": [
       "<Figure size 432x288 with 1 Axes>"
      ]
     },
     "metadata": {
      "needs_background": "light"
     },
     "output_type": "display_data"
    },
    {
     "name": "stderr",
     "output_type": "stream",
     "text": [
      "sampling loop time step: 100%|████████████████████████████████████████████████████████████████| 64/64 [00:00<00:00, 1350.24it/s]\n"
     ]
    },
    {
     "name": "stdout",
     "output_type": "stream",
     "text": [
      "torch.Size([2000, 1, 1, 1])\n"
     ]
    },
    {
     "data": {
      "image/png": "[encoded data removed]",
      "text/plain": [
       "<Figure size 432x288 with 1 Axes>"
      ]
     },
     "metadata": {
      "needs_background": "light"
     },
     "output_type": "display_data"
    },
    {
     "name": "stderr",
     "output_type": "stream",
     "text": [
      "sampling loop time step: 100%|████████████████████████████████████████████████████████████████| 32/32 [00:00<00:00, 1252.52it/s]\n"
     ]
    },
    {
     "name": "stdout",
     "output_type": "stream",
     "text": [
      "torch.Size([2000, 1, 1, 1])\n"
     ]
    },
    {
     "data": {
      "image/png": "[encoded data removed]",
      "text/plain": [
       "<Figure size 432x288 with 1 Axes>"
      ]
     },
     "metadata": {
      "needs_background": "light"
     },
     "output_type": "display_data"
    },
    {
     "name": "stderr",
     "output_type": "stream",
     "text": [
      "sampling loop time step: 100%|████████████████████████████████████████████████████████████████| 16/16 [00:00<00:00, 1200.67it/s]\n"
     ]
    },
    {
     "name": "stdout",
     "output_type": "stream",
     "text": [
      "torch.Size([2000, 1, 1, 1])\n"
     ]
    },
    {
     "data": {
      "image/png": "[encoded data removed]",
      "text/plain": [
       "<Figure size 432x288 with 1 Axes>"
      ]
     },
     "metadata": {
      "needs_background": "light"
     },
     "output_type": "display_data"
    },
    {
     "name": "stderr",
     "output_type": "stream",
     "text": [
      "sampling loop time step: 100%|██████████████████████████████████████████████████████████████████| 8/8 [00:00<00:00, 1193.26it/s]\n"
     ]
    },
    {
     "name": "stdout",
     "output_type": "stream",
     "text": [
      "torch.Size([2000, 1, 1, 1])\n"
     ]
    },
    {
     "data": {
      "image/png": "[encoded data removed]",
      "text/plain": [
       "<Figure size 432x288 with 1 Axes>"
      ]
     },
     "metadata": {
      "needs_background": "light"
     },
     "output_type": "display_data"
    },
    {
     "name": "stderr",
     "output_type": "stream",
     "text": [
      "sampling loop time step: 100%|███████████████████████████████████████████████████████████████████| 4/4 [00:00<00:00, 738.53it/s]\n"
     ]
    },
    {
     "name": "stdout",
     "output_type": "stream",
     "text": [
      "torch.Size([2000, 1, 1, 1])\n"
     ]
    },
    {
     "data": {
      "image/png": "[encoded data removed]",
      "text/plain": [
       "<Figure size 432x288 with 1 Axes>"
      ]
     },
     "metadata": {
      "needs_background": "light"
     },
     "output_type": "display_data"
    },
    {
     "name": "stderr",
     "output_type": "stream",
     "text": [
      "sampling loop time step: 100%|███████████████████████████████████████████████████████████████████| 2/2 [00:00<00:00, 958.59it/s]\n"
     ]
    },
    {
     "name": "stdout",
     "output_type": "stream",
     "text": [
      "torch.Size([2000, 1, 1, 1])\n"
     ]
    },
    {
     "data": {
      "image/png": "[encoded data removed]",
      "text/plain": [
       "<Figure size 432x288 with 1 Axes>"
      ]
     },
     "metadata": {
      "needs_background": "light"
     },
     "output_type": "display_data"
    },
    {
     "name": "stderr",
     "output_type": "stream",
     "text": [
      "sampling loop time step: 100%|███████████████████████████████████████████████████████████████████| 1/1 [00:00<00:00, 670.12it/s]\n"
     ]
    },
    {
     "name": "stdout",
     "output_type": "stream",
     "text": [
      "torch.Size([2000, 1, 1, 1])\n"
     ]
    },
    {
     "data": {
      "image/png": "[encoded data removed]",
      "text/plain": [
       "<Figure size 432x288 with 1 Axes>"
      ]
     },
     "metadata": {
      "needs_background": "light"
     },
     "output_type": "display_data"
    }
   ],
   "source": [
    "\n",
    "for model in models:\n",
    "    sampled_images = model.sample(batch_size=2000)\n",
    "    print(sampled_images.shape)  # (4, 3, 128, 128)\n",
    "    sampled_images = sampled_images[:, 0, 0, 0]\n",
    "    # print(sampled_images)\n",
    "    _ = plt.hist(sampled_images.cpu().numpy(), density=True, bins=200)\n",
    "    plt.show()"
   ]
  },
  {
   "cell_type": "code",
   "execution_count": null,
   "metadata": {
    "pycharm": {
     "name": "#%%\n"
    },
    "scrolled": true
   },
   "outputs": [],
   "source": []
  },
  {
   "cell_type": "code",
   "execution_count": null,
   "metadata": {},
   "outputs": [],
   "source": []
  },
  {
   "cell_type": "code",
   "execution_count": 17,
   "metadata": {
    "pycharm": {
     "name": "#%%\n"
    }
   },
   "outputs": [],
   "source": [
    "def show_trajectories(model, refmodel, numtraj=10, range=(-1.2, 1.2)):\n",
    "    x_T = np.linspace(range[0], range[1], numtraj)\n",
    "    \n",
    "    sampled_images, times, imgacc, x0acc = refmodel.sample(numtraj, \n",
    "                                                        x_T=torch.tensor(x_T)[:, None, None, None].to(torch.float)\n",
    "                                                                     .to(diffusion.betas.device),\n",
    "                                                           return_trajectories=True)\n",
    "    \n",
    "    \n",
    "    print(len(times), len(imgacc))\n",
    "    \n",
    "    trajs = [[x_t_i] for x_t_i in x_T]\n",
    "    \n",
    "    for img in imgacc:\n",
    "        img = img[:,0,0,0].cpu().numpy()\n",
    "        for img_i, traj in zip(img, trajs):\n",
    "            traj.append(img_i)\n",
    "        \n",
    "    fig = plt.figure(figsize = (15,10))\n",
    "    ax = fig.add_subplot(111)\n",
    "    for traj in trajs:\n",
    "        ax.plot(times, traj, \"blue\")\n",
    "    ax.set_title('trajectories')\n",
    "    \n",
    "    sampled_images, times, imgacc, x0acc = model.sample(numtraj, \n",
    "                                                        x_T=torch.tensor(x_T)[:, None, None, None].to(torch.float)\n",
    "                                                                     .to(diffusion.betas.device),\n",
    "                                                       return_trajectories=True)\n",
    "    \n",
    "    print(len(times), len(imgacc))\n",
    "    \n",
    "    trajs = [[x_t_i] for x_t_i in x_T]\n",
    "    \n",
    "    for img in imgacc:\n",
    "        img = img[:,0,0,0].cpu().numpy()\n",
    "        for img_i, traj in zip(img, trajs):\n",
    "            traj.append(img_i)\n",
    "        \n",
    "    for traj in trajs:\n",
    "        ax.plot(times, traj, \"ro-\")\n",
    "    ax.set_title('trajectories')\n",
    "\n",
    "    plt.show()\n",
    "\n",
    "    return trajs"
   ]
  },
  {
   "cell_type": "code",
   "execution_count": 24,
   "metadata": {
    "scrolled": false
   },
   "outputs": [
    {
     "name": "stderr",
     "output_type": "stream",
     "text": [
      "sampling loop time step: 100%|██████████████████████████████████████████████████████████████| 512/512 [00:00<00:00, 1265.78it/s]\n"
     ]
    },
    {
     "name": "stdout",
     "output_type": "stream",
     "text": [
      "513 512\n"
     ]
    },
    {
     "name": "stderr",
     "output_type": "stream",
     "text": [
      "sampling loop time step: 100%|██████████████████████████████████████████████████████████████████| 8/8 [00:00<00:00, 1036.59it/s]\n"
     ]
    },
    {
     "name": "stdout",
     "output_type": "stream",
     "text": [
      "9 8\n"
     ]
    },
    {
     "data": {
      "image/png": "[encoded data removed]",
      "text/plain": [
       "<Figure size 1080x720 with 1 Axes>"
      ]
     },
     "metadata": {
      "needs_background": "light"
     },
     "output_type": "display_data"
    }
   ],
   "source": [
    "_ = show_trajectories(models1[-3], basemodel, numtraj=21)"
   ]
  },
  {
   "cell_type": "code",
   "execution_count": 27,
   "metadata": {},
   "outputs": [
    {
     "name": "stderr",
     "output_type": "stream",
     "text": [
      "sampling loop time step: 100%|██████████████████████████████████████████████████████████████| 512/512 [00:00<00:00, 1445.43it/s]\n"
     ]
    },
    {
     "name": "stdout",
     "output_type": "stream",
     "text": [
      "513 512\n"
     ]
    },
    {
     "name": "stderr",
     "output_type": "stream",
     "text": [
      "sampling loop time step: 100%|██████████████████████████████████████████████████████████████████| 8/8 [00:00<00:00, 1458.25it/s]\n"
     ]
    },
    {
     "name": "stdout",
     "output_type": "stream",
     "text": [
      "9 8\n"
     ]
    },
    {
     "data": {
      "image/png": "[encoded data removed]",
      "text/plain": [
       "<Figure size 1080x720 with 1 Axes>"
      ]
     },
     "metadata": {
      "needs_background": "light"
     },
     "output_type": "display_data"
    }
   ],
   "source": [
    "_ = show_trajectories(models[-4], basemodel, numtraj=21)"
   ]
  },
  {
   "cell_type": "code",
   "execution_count": 20,
   "metadata": {},
   "outputs": [],
   "source": [
    "def compute_traj_dist(model, model2, refmodel, batsize=2000):\n",
    "    x_T = torch.randn((batsize, 1, 1, 1)).to(device)\n",
    "    samples = model.sample(batsize, x_T=x_T)\n",
    "    samples2 = model2.sample(batsize, x_T=x_T)\n",
    "    refsamples = refmodel.sample(batsize, x_T=x_T)\n",
    "    ret = torch.norm(samples - refsamples)**2\n",
    "    ret2 = torch.norm(samples2 - refsamples)**2\n",
    "    return ret, ret2\n",
    "    # print(((samples - refsamples) ** 2).sum())\n",
    "    # print(samples[:5], refsamples[:5])"
   ]
  },
  {
   "cell_type": "code",
   "execution_count": 36,
   "metadata": {},
   "outputs": [
    {
     "name": "stderr",
     "output_type": "stream",
     "text": [
      "sampling loop time step: 100%|███████████████████████████████████████████████████████████████████| 1/1 [00:00<00:00, 691.79it/s]\n",
      "sampling loop time step: 100%|███████████████████████████████████████████████████████████████████| 1/1 [00:00<00:00, 574.48it/s]\n",
      "sampling loop time step: 100%|██████████████████████████████████████████████████████████████| 512/512 [00:00<00:00, 1236.84it/s]\n",
      "sampling loop time step: 100%|███████████████████████████████████████████████████████████████████| 1/1 [00:00<00:00, 762.74it/s]\n",
      "sampling loop time step: 100%|███████████████████████████████████████████████████████████████████| 1/1 [00:00<00:00, 434.87it/s]\n",
      "sampling loop time step: 100%|██████████████████████████████████████████████████████████████| 512/512 [00:00<00:00, 1372.26it/s]\n",
      "sampling loop time step: 100%|███████████████████████████████████████████████████████████████████| 1/1 [00:00<00:00, 771.01it/s]\n",
      "sampling loop time step: 100%|███████████████████████████████████████████████████████████████████| 1/1 [00:00<00:00, 566.26it/s]\n",
      "sampling loop time step: 100%|██████████████████████████████████████████████████████████████| 512/512 [00:00<00:00, 1378.18it/s]\n",
      "sampling loop time step: 100%|███████████████████████████████████████████████████████████████████| 1/1 [00:00<00:00, 873.09it/s]\n",
      "sampling loop time step: 100%|███████████████████████████████████████████████████████████████████| 1/1 [00:00<00:00, 447.11it/s]\n",
      "sampling loop time step: 100%|██████████████████████████████████████████████████████████████| 512/512 [00:00<00:00, 1403.27it/s]\n",
      "sampling loop time step: 100%|███████████████████████████████████████████████████████████████████| 1/1 [00:00<00:00, 602.46it/s]\n",
      "sampling loop time step: 100%|███████████████████████████████████████████████████████████████████| 1/1 [00:00<00:00, 613.38it/s]\n",
      "sampling loop time step: 100%|██████████████████████████████████████████████████████████████| 512/512 [00:00<00:00, 1466.62it/s]\n",
      "sampling loop time step: 100%|██████████████████████████████████████████████████████████████████| 1/1 [00:00<00:00, 1058.63it/s]\n",
      "sampling loop time step: 100%|██████████████████████████████████████████████████████████████████| 1/1 [00:00<00:00, 1065.63it/s]\n",
      "sampling loop time step: 100%|██████████████████████████████████████████████████████████████| 512/512 [00:00<00:00, 1445.67it/s]\n",
      "sampling loop time step: 100%|██████████████████████████████████████████████████████████████████| 1/1 [00:00<00:00, 1008.73it/s]\n",
      "sampling loop time step: 100%|██████████████████████████████████████████████████████████████████| 1/1 [00:00<00:00, 1058.90it/s]\n",
      "sampling loop time step: 100%|██████████████████████████████████████████████████████████████| 512/512 [00:00<00:00, 1455.32it/s]\n",
      "sampling loop time step: 100%|███████████████████████████████████████████████████████████████████| 1/1 [00:00<00:00, 951.52it/s]\n",
      "sampling loop time step: 100%|███████████████████████████████████████████████████████████████████| 1/1 [00:00<00:00, 960.45it/s]\n",
      "sampling loop time step: 100%|██████████████████████████████████████████████████████████████| 512/512 [00:00<00:00, 1448.16it/s]\n",
      "sampling loop time step: 100%|███████████████████████████████████████████████████████████████████| 1/1 [00:00<00:00, 769.60it/s]\n",
      "sampling loop time step: 100%|███████████████████████████████████████████████████████████████████| 1/1 [00:00<00:00, 774.86it/s]\n",
      "sampling loop time step: 100%|██████████████████████████████████████████████████████████████| 512/512 [00:00<00:00, 1370.27it/s]\n",
      "sampling loop time step: 100%|███████████████████████████████████████████████████████████████████| 1/1 [00:00<00:00, 640.06it/s]\n",
      "sampling loop time step: 100%|███████████████████████████████████████████████████████████████████| 1/1 [00:00<00:00, 520.45it/s]\n",
      "sampling loop time step: 100%|██████████████████████████████████████████████████████████████| 512/512 [00:00<00:00, 1422.19it/s]\n",
      "sampling loop time step: 100%|███████████████████████████████████████████████████████████████████| 1/1 [00:00<00:00, 955.86it/s]\n",
      "sampling loop time step: 100%|███████████████████████████████████████████████████████████████████| 1/1 [00:00<00:00, 966.65it/s]\n",
      "sampling loop time step: 100%|██████████████████████████████████████████████████████████████| 512/512 [00:00<00:00, 1407.28it/s]\n",
      "sampling loop time step: 100%|███████████████████████████████████████████████████████████████████| 1/1 [00:00<00:00, 713.68it/s]\n",
      "sampling loop time step: 100%|███████████████████████████████████████████████████████████████████| 1/1 [00:00<00:00, 926.51it/s]\n",
      "sampling loop time step: 100%|██████████████████████████████████████████████████████████████| 512/512 [00:00<00:00, 1421.19it/s]\n",
      "sampling loop time step: 100%|███████████████████████████████████████████████████████████████████| 1/1 [00:00<00:00, 982.04it/s]\n",
      "sampling loop time step: 100%|███████████████████████████████████████████████████████████████████| 1/1 [00:00<00:00, 800.29it/s]\n",
      "sampling loop time step: 100%|██████████████████████████████████████████████████████████████| 512/512 [00:00<00:00, 1418.68it/s]\n",
      "sampling loop time step: 100%|██████████████████████████████████████████████████████████████████| 1/1 [00:00<00:00, 1058.37it/s]\n",
      "sampling loop time step: 100%|██████████████████████████████████████████████████████████████████| 1/1 [00:00<00:00, 1066.71it/s]\n",
      "sampling loop time step: 100%|██████████████████████████████████████████████████████████████| 512/512 [00:00<00:00, 1397.14it/s]\n",
      "sampling loop time step: 100%|███████████████████████████████████████████████████████████████████| 1/1 [00:00<00:00, 743.41it/s]\n",
      "sampling loop time step: 100%|███████████████████████████████████████████████████████████████████| 1/1 [00:00<00:00, 909.43it/s]\n",
      "sampling loop time step: 100%|██████████████████████████████████████████████████████████████| 512/512 [00:00<00:00, 1417.26it/s]\n",
      "sampling loop time step: 100%|███████████████████████████████████████████████████████████████████| 1/1 [00:00<00:00, 893.74it/s]\n",
      "sampling loop time step: 100%|███████████████████████████████████████████████████████████████████| 1/1 [00:00<00:00, 696.84it/s]\n",
      "sampling loop time step: 100%|██████████████████████████████████████████████████████████████| 512/512 [00:00<00:00, 1422.59it/s]\n",
      "sampling loop time step: 100%|██████████████████████████████████████████████████████████████████| 1/1 [00:00<00:00, 1005.35it/s]\n",
      "sampling loop time step: 100%|██████████████████████████████████████████████████████████████████| 1/1 [00:00<00:00, 1055.70it/s]\n",
      "sampling loop time step: 100%|██████████████████████████████████████████████████████████████| 512/512 [00:00<00:00, 1427.62it/s]\n",
      "sampling loop time step: 100%|███████████████████████████████████████████████████████████████████| 1/1 [00:00<00:00, 740.13it/s]\n",
      "sampling loop time step: 100%|███████████████████████████████████████████████████████████████████| 1/1 [00:00<00:00, 719.81it/s]\n",
      "sampling loop time step: 100%|██████████████████████████████████████████████████████████████| 512/512 [00:00<00:00, 1485.64it/s]\n",
      "sampling loop time step: 100%|███████████████████████████████████████████████████████████████████| 1/1 [00:00<00:00, 909.63it/s]\n",
      "sampling loop time step: 100%|███████████████████████████████████████████████████████████████████| 1/1 [00:00<00:00, 759.29it/s]\n",
      "sampling loop time step: 100%|██████████████████████████████████████████████████████████████| 512/512 [00:00<00:00, 1443.02it/s]\n",
      "sampling loop time step: 100%|███████████████████████████████████████████████████████████████████| 1/1 [00:00<00:00, 723.53it/s]\n",
      "sampling loop time step: 100%|███████████████████████████████████████████████████████████████████| 1/1 [00:00<00:00, 701.39it/s]\n",
      "sampling loop time step: 100%|██████████████████████████████████████████████████████████████| 512/512 [00:00<00:00, 1405.70it/s]"
     ]
    },
    {
     "name": "stdout",
     "output_type": "stream",
     "text": [
      "1.3332+-0.1854, 1.4090+-0.2370\n"
     ]
    },
    {
     "name": "stderr",
     "output_type": "stream",
     "text": [
      "\n"
     ]
    }
   ],
   "source": [
    "retas, retbs = [], []\n",
    "for _ in range(20):\n",
    "    reta, retb = compute_traj_dist(models1[-1], models[-1], basemodel)\n",
    "    retas.append(reta)\n",
    "    retbs.append(retb)\n",
    "    \n",
    "retas = torch.stack(retas)\n",
    "retbs = torch.stack(retbs)\n",
    "    \n",
    "print(f\"{torch.mean(retas).item():.4f}+-{torch.std(retas):.4f}, {torch.mean(retbs).item():.4f}+-{torch.std(retbs):.4f}\")"
   ]
  },
  {
   "cell_type": "code",
   "execution_count": null,
   "metadata": {},
   "outputs": [],
   "source": []
  }
 ],
 "metadata": {
  "kernelspec": {
   "display_name": "Python 3 (ipykernel)",
   "language": "python",
   "name": "python3"
  },
  "language_info": {
   "codemirror_mode": {
    "name": "ipython",
    "version": 3
   },
   "file_extension": ".py",
   "mimetype": "text/x-python",
   "name": "python",
   "nbconvert_exporter": "python",
   "pygments_lexer": "ipython3",
   "version": "3.9.12"
  }
 },
 "nbformat": 4,
 "nbformat_minor": 1
}