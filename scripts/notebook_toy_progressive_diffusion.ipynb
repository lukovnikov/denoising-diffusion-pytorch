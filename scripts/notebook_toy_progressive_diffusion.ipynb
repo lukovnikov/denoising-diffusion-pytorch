{
 "cells": [
  {
   "cell_type": "code",
   "execution_count": 1,
   "metadata": {
    "pycharm": {
     "name": "#%%\n"
    }
   },
   "outputs": [
    {
     "name": "stderr",
     "output_type": "stream",
     "text": [
      "C:\\Users\\lukov\\miniconda3\\envs\\dd\\lib\\site-packages\\tqdm\\auto.py:22: TqdmWarning: IProgress not found. Please update jupyter and ipywidgets. See https://ipywidgets.readthedocs.io/en/stable/user_install.html\n",
      "  from .autonotebook import tqdm as notebook_tqdm\n"
     ]
    }
   ],
   "source": [
    "from copy import deepcopy\n",
    "\n",
    "import torch\n",
    "import torch.nn as nn\n",
    "import matplotlib as mpl\n",
    "from matplotlib import pyplot as plt\n",
    "import numpy as np\n",
    "import math\n",
    "import os, sys\n",
    "from tqdm import tqdm\n",
    "import random\n",
    "\n",
    "from denoising_diffusion_pytorch import GaussianDiffusion\n",
    "from denoising_diffusion_pytorch.denoising_diffusion_pytorch import SinusoidalPosEmb, unnormalize_to_zero_to_one\n",
    "from denoising_diffusion_pytorch.progressive_distillation import ProgressiveDistillationGaussianDiffusion\n"
   ]
  },
  {
   "cell_type": "code",
   "execution_count": 2,
   "metadata": {},
   "outputs": [],
   "source": [
    "\n",
    "class OneDModel(torch.nn.Module):\n",
    "    def __init__(self, dim=16, **kw):\n",
    "        super().__init__(**kw)\n",
    "        self.channels = self.out_dim = 1\n",
    "        self.self_condition = False\n",
    "        time_dim = dim * 4\n",
    "\n",
    "        sinu_pos_emb = SinusoidalPosEmb(dim)\n",
    "\n",
    "        self.time_mlp = nn.Sequential(\n",
    "            sinu_pos_emb,\n",
    "            nn.Linear(dim, time_dim),\n",
    "            nn.GELU(),\n",
    "            nn.Linear(time_dim, dim)\n",
    "        )\n",
    "\n",
    "        self.main = torch.nn.ModuleList([\n",
    "            torch.nn.Linear(1, dim),\n",
    "            torch.nn.GELU(),\n",
    "            torch.nn.Linear(dim, dim),\n",
    "            torch.nn.GELU(),\n",
    "            torch.nn.Linear(dim, dim),\n",
    "            torch.nn.GELU(),\n",
    "            torch.nn.Linear(dim, dim),\n",
    "            torch.nn.GELU(),\n",
    "            torch.nn.Linear(dim, 1)\n",
    "        ])\n",
    "\n",
    "    def forward(self, x_t, t, self_cond=None):\n",
    "        \"\"\" x: (batsize, 1, 1, 1)\"\"\"\n",
    "        x_t = x_t.squeeze(-1).squeeze(-1)\n",
    "\n",
    "        temb = self.time_mlp(t)\n",
    "\n",
    "        h = self.main[0](x_t)\n",
    "        h = h + temb\n",
    "        for layer in self.main[1:]:\n",
    "            h = layer(h)\n",
    "\n",
    "        h = h[:, :, None, None]\n",
    "        return h\n",
    "\n",
    "\n",
    "class OneDDataset(torch.utils.data.Dataset):\n",
    "    def __init__(self, **kw):\n",
    "        super().__init__(**kw)\n",
    "        self.peaks = [0, 0.2, 0.8, 1]\n",
    "        self.var = 0.001\n",
    "\n",
    "    def __getitem__(self, i):\n",
    "        # randomly choose one of the peaks\n",
    "        ret = random.choice(self.peaks)\n",
    "        ret = ret + random.gauss(0, self.var)\n",
    "        return torch.tensor([ret])[:, None, None]\n",
    "\n",
    "    def __len__(self):\n",
    "        return 4000\n",
    "\n",
    "    def __iter__(self):\n",
    "        for i in range(len(self)):\n",
    "            yield self[i]\n",
    "\n",
    "\n",
    "\n"
   ]
  },
  {
   "cell_type": "code",
   "execution_count": 3,
   "metadata": {},
   "outputs": [
    {
     "name": "stdout",
     "output_type": "stream",
     "text": [
      "tensor([[[[ 1.2041]]],\n",
      "\n",
      "\n",
      "        [[[ 1.2833]]],\n",
      "\n",
      "\n",
      "        [[[ 0.1578]]],\n",
      "\n",
      "\n",
      "        [[[-0.7540]]],\n",
      "\n",
      "\n",
      "        [[[ 1.3091]]]]) tensor([0.7824, 0.1892, 0.2214, 0.4067, 0.3026])\n",
      "4000\n",
      "[-5.5748303566360846e-05, 0.0011339361080899835, -0.0008620451553724706, 0.2001534104347229, 6.294403283391148e-05, 0.19829526543617249, -0.001527694403193891, 1.0003992319107056, -0.0016337418928742409, 0.00042412467882968485, 0.801693320274353, -0.0013211912009865046, 0.19989831745624542, 0.0011962804710492492, 0.7992130517959595, 0.0012381889391690493, 0.8004467487335205, 0.20031452178955078, 0.2004346251487732, 0.20086650550365448, 0.999267041683197, 0.7991926670074463, 0.00016145840345416218, -1.2448708730516955e-05, 0.7977547645568848, 1.0005247592926025, 0.799424946308136, 0.20096638798713684, 0.20065838098526, 0.00025729837943799794, 1.0013055801391602, 0.2005314826965332, 0.20017263293266296, 0.7994054555892944, 0.000996081274934113, 0.9979673027992249, 0.8002524971961975, 0.20043043792247772, 0.997195303440094, 0.9992818236351013, 0.19826780259609222, 0.19975776970386505, 0.0001826639927458018, 1.0018726587295532, 1.0002827644348145, 0.20143847167491913, 0.19958949089050293, 0.1997825801372528, 0.999028742313385, 0.00024995810235850513, 1.0000485181808472, 1.0000985860824585, 0.7998221516609192, 0.9989173412322998, 0.0015899190912023187, 0.19926418364048004, 0.8010432124137878, 0.0002061848936136812, 0.8015515804290771, 0.2026895135641098, -0.002332153497263789, 0.7998095750808716, 1.0001366138458252, 0.20092220604419708, 0.1996808499097824, 0.1988155096769333, 0.9991649985313416, 0.7972987294197083, 0.20067214965820312, 0.002308101858943701, 0.0001673366205068305, -0.0008072273922152817, 0.0015407094033434987, -0.00112274126149714, 0.000663746555801481, 0.8005561828613281, 0.2013009935617447, -0.0009996091248467565, 1.0004897117614746, 0.998196005821228, 0.7991328239440918, 0.00061621522763744, 0.00040386238833889365, 0.19962669909000397, 1.0013084411621094, 0.800074577331543, 0.7986453175544739, -0.00035150712938047945, 1.0012339353561401, 0.9996906518936157, 0.8016110062599182, 0.19973374903202057, 1.0004549026489258, 0.20080748200416565, 1.0001983642578125, 0.20049171149730682, 0.8000197410583496, 1.0002894401550293, 0.1984473019838333, -0.0012559826718643308]\n"
     ]
    }
   ],
   "source": [
    "\n",
    "m = OneDModel(64)\n",
    "x = torch.randn((5, 1, 1, 1))\n",
    "t = torch.rand((5,))\n",
    "print(x, t)\n",
    "\n",
    "# y = m(x, t)\n",
    "# print(y)\n",
    "timesteps = 512\n",
    "\n",
    "diffusion = ProgressiveDistillationGaussianDiffusion(model=m, image_size=1, timesteps=timesteps)\n",
    "\n",
    "ds = OneDDataset()\n",
    "dl = torch.utils.data.DataLoader(ds, batch_size=256)\n",
    "\n",
    "print(len(ds))\n",
    "samples = [x[0, 0, 0].item() for x in ds]\n",
    "print(samples[0:100])\n",
    "# _ = plt.hist(samples, density=True, bins=100)\n",
    "# plt.show()\n"
   ]
  },
  {
   "cell_type": "code",
   "execution_count": 4,
   "metadata": {},
   "outputs": [],
   "source": [
    "\n",
    "step = 0\n",
    "epochs = [4000]\n",
    "_timesteps = timesteps\n",
    "while _timesteps > 1:\n",
    "    epochs.append(1000)\n",
    "    _timesteps /= 2\n",
    "\n",
    "_epochs = deepcopy(epochs)\n",
    "\n",
    "device = torch.device(\"cuda:0\")\n",
    "diffusion.to(device)\n",
    "done = False\n",
    "\n",
    "optimizer = torch.optim.Adam(diffusion.model.parameters(), lr=1e-3, betas=(0.9, 0.99))\n",
    "\n",
    "models = []\n"
   ]
  },
  {
   "cell_type": "code",
   "execution_count": 5,
   "metadata": {},
   "outputs": [
    {
     "name": "stderr",
     "output_type": "stream",
     "text": [
      "loss: 0.3550:   0%|▏                                                             | 822/208000 [00:06<26:38, 129.59it/s]"
     ]
    },
    {
     "name": "stdout",
     "output_type": "stream",
     "text": [
      "\n"
     ]
    },
    {
     "name": "stderr",
     "output_type": "stream",
     "text": [
      "loss: 0.3424:   1%|▍                                                            | 1622/208000 [00:13<26:55, 127.77it/s]"
     ]
    },
    {
     "name": "stdout",
     "output_type": "stream",
     "text": [
      "\n"
     ]
    },
    {
     "name": "stderr",
     "output_type": "stream",
     "text": [
      "loss: 0.3637:   1%|▋                                                            | 2423/208000 [00:19<26:48, 127.84it/s]"
     ]
    },
    {
     "name": "stdout",
     "output_type": "stream",
     "text": [
      "\n"
     ]
    },
    {
     "name": "stderr",
     "output_type": "stream",
     "text": [
      "loss: 0.3549:   2%|▉                                                            | 3224/208000 [00:25<26:43, 127.68it/s]"
     ]
    },
    {
     "name": "stdout",
     "output_type": "stream",
     "text": [
      "\n"
     ]
    },
    {
     "name": "stderr",
     "output_type": "stream",
     "text": [
      "loss: 0.3605:   2%|█▏                                                           | 4023/208000 [00:32<26:50, 126.67it/s]"
     ]
    },
    {
     "name": "stdout",
     "output_type": "stream",
     "text": [
      "\n"
     ]
    },
    {
     "name": "stderr",
     "output_type": "stream",
     "text": [
      "loss: 0.3743:   2%|█▍                                                           | 4823/208000 [00:38<26:27, 127.99it/s]"
     ]
    },
    {
     "name": "stdout",
     "output_type": "stream",
     "text": [
      "\n"
     ]
    },
    {
     "name": "stderr",
     "output_type": "stream",
     "text": [
      "loss: 0.3691:   3%|█▋                                                           | 5623/208000 [00:44<26:21, 127.99it/s]"
     ]
    },
    {
     "name": "stdout",
     "output_type": "stream",
     "text": [
      "\n"
     ]
    },
    {
     "name": "stderr",
     "output_type": "stream",
     "text": [
      "loss: 0.3563:   3%|█▉                                                           | 6422/208000 [00:51<27:36, 121.69it/s]"
     ]
    },
    {
     "name": "stdout",
     "output_type": "stream",
     "text": [
      "\n"
     ]
    },
    {
     "name": "stderr",
     "output_type": "stream",
     "text": [
      "loss: 0.3484:   3%|██                                                           | 7223/208000 [00:57<26:24, 126.74it/s]"
     ]
    },
    {
     "name": "stdout",
     "output_type": "stream",
     "text": [
      "\n"
     ]
    },
    {
     "name": "stderr",
     "output_type": "stream",
     "text": [
      "loss: 0.3729:   4%|██▎                                                          | 8023/208000 [01:03<25:46, 129.32it/s]"
     ]
    },
    {
     "name": "stdout",
     "output_type": "stream",
     "text": [
      "\n"
     ]
    },
    {
     "name": "stderr",
     "output_type": "stream",
     "text": [
      "loss: 0.3594:   4%|██▌                                                          | 8821/208000 [01:09<26:13, 126.57it/s]"
     ]
    },
    {
     "name": "stdout",
     "output_type": "stream",
     "text": [
      "\n"
     ]
    },
    {
     "name": "stderr",
     "output_type": "stream",
     "text": [
      "loss: 0.3611:   5%|██▊                                                          | 9625/208000 [01:15<22:40, 145.79it/s]"
     ]
    },
    {
     "name": "stdout",
     "output_type": "stream",
     "text": [
      "\n"
     ]
    },
    {
     "name": "stderr",
     "output_type": "stream",
     "text": [
      "loss: 0.3634:   5%|███                                                         | 10423/208000 [01:21<25:40, 128.23it/s]"
     ]
    },
    {
     "name": "stdout",
     "output_type": "stream",
     "text": [
      "\n"
     ]
    },
    {
     "name": "stderr",
     "output_type": "stream",
     "text": [
      "loss: 0.3760:   5%|███▏                                                        | 11221/208000 [01:27<26:14, 125.01it/s]"
     ]
    },
    {
     "name": "stdout",
     "output_type": "stream",
     "text": [
      "\n"
     ]
    },
    {
     "name": "stderr",
     "output_type": "stream",
     "text": [
      "loss: 0.3711:   6%|███▍                                                        | 12023/208000 [01:34<25:54, 126.07it/s]"
     ]
    },
    {
     "name": "stdout",
     "output_type": "stream",
     "text": [
      "\n"
     ]
    },
    {
     "name": "stderr",
     "output_type": "stream",
     "text": [
      "loss: 0.3759:   6%|███▋                                                        | 12822/208000 [01:40<25:33, 127.30it/s]"
     ]
    },
    {
     "name": "stdout",
     "output_type": "stream",
     "text": [
      "\n"
     ]
    },
    {
     "name": "stderr",
     "output_type": "stream",
     "text": [
      "loss: 0.3683:   7%|███▉                                                        | 13624/208000 [01:46<23:57, 135.18it/s]"
     ]
    },
    {
     "name": "stdout",
     "output_type": "stream",
     "text": [
      "\n"
     ]
    },
    {
     "name": "stderr",
     "output_type": "stream",
     "text": [
      "loss: 0.3483:   7%|████▏                                                       | 14425/208000 [01:52<22:41, 142.14it/s]"
     ]
    },
    {
     "name": "stdout",
     "output_type": "stream",
     "text": [
      "\n"
     ]
    },
    {
     "name": "stderr",
     "output_type": "stream",
     "text": [
      "loss: 0.3602:   7%|████▍                                                       | 15223/208000 [01:57<24:34, 130.71it/s]"
     ]
    },
    {
     "name": "stdout",
     "output_type": "stream",
     "text": [
      "\n"
     ]
    },
    {
     "name": "stderr",
     "output_type": "stream",
     "text": [
      "loss: 0.3760:   8%|████▌                                                       | 16028/208000 [02:03<20:47, 153.93it/s]"
     ]
    },
    {
     "name": "stdout",
     "output_type": "stream",
     "text": [
      "\n"
     ]
    },
    {
     "name": "stderr",
     "output_type": "stream",
     "text": [
      "loss: 0.3569:   8%|████▊                                                       | 16825/208000 [02:08<21:23, 148.94it/s]"
     ]
    },
    {
     "name": "stdout",
     "output_type": "stream",
     "text": [
      "\n"
     ]
    },
    {
     "name": "stderr",
     "output_type": "stream",
     "text": [
      "loss: 0.3587:   8%|█████                                                       | 17626/208000 [02:14<22:12, 142.85it/s]"
     ]
    },
    {
     "name": "stdout",
     "output_type": "stream",
     "text": [
      "\n"
     ]
    },
    {
     "name": "stderr",
     "output_type": "stream",
     "text": [
      "loss: 0.3710:   9%|█████▎                                                      | 18425/208000 [02:20<21:52, 144.40it/s]"
     ]
    },
    {
     "name": "stdout",
     "output_type": "stream",
     "text": [
      "\n"
     ]
    },
    {
     "name": "stderr",
     "output_type": "stream",
     "text": [
      "loss: 0.3508:   9%|█████▌                                                      | 19226/208000 [02:25<21:35, 145.74it/s]"
     ]
    },
    {
     "name": "stdout",
     "output_type": "stream",
     "text": [
      "\n"
     ]
    },
    {
     "name": "stderr",
     "output_type": "stream",
     "text": [
      "loss: 0.3598:  10%|█████▊                                                      | 20026/208000 [02:31<21:38, 144.78it/s]"
     ]
    },
    {
     "name": "stdout",
     "output_type": "stream",
     "text": [
      "\n"
     ]
    },
    {
     "name": "stderr",
     "output_type": "stream",
     "text": [
      "loss: 0.3561:  10%|██████                                                      | 20827/208000 [02:36<21:40, 143.97it/s]"
     ]
    },
    {
     "name": "stdout",
     "output_type": "stream",
     "text": [
      "\n"
     ]
    },
    {
     "name": "stderr",
     "output_type": "stream",
     "text": [
      "loss: 0.3574:  10%|██████▏                                                     | 21625/208000 [02:42<21:38, 143.52it/s]"
     ]
    },
    {
     "name": "stdout",
     "output_type": "stream",
     "text": [
      "\n"
     ]
    },
    {
     "name": "stderr",
     "output_type": "stream",
     "text": [
      "loss: 0.3563:  11%|██████▍                                                     | 22424/208000 [02:47<22:13, 139.15it/s]"
     ]
    },
    {
     "name": "stdout",
     "output_type": "stream",
     "text": [
      "\n"
     ]
    },
    {
     "name": "stderr",
     "output_type": "stream",
     "text": [
      "loss: 0.3555:  11%|██████▋                                                     | 23226/208000 [02:53<21:46, 141.38it/s]"
     ]
    },
    {
     "name": "stdout",
     "output_type": "stream",
     "text": [
      "\n"
     ]
    },
    {
     "name": "stderr",
     "output_type": "stream",
     "text": [
      "loss: 0.3676:  12%|██████▉                                                     | 24026/208000 [02:58<20:17, 151.16it/s]"
     ]
    },
    {
     "name": "stdout",
     "output_type": "stream",
     "text": [
      "\n"
     ]
    },
    {
     "name": "stderr",
     "output_type": "stream",
     "text": [
      "loss: 0.3693:  12%|███████▏                                                    | 24827/208000 [03:04<20:15, 150.68it/s]"
     ]
    },
    {
     "name": "stdout",
     "output_type": "stream",
     "text": [
      "\n"
     ]
    },
    {
     "name": "stderr",
     "output_type": "stream",
     "text": [
      "loss: 0.3554:  12%|███████▍                                                    | 25626/208000 [03:09<20:43, 146.67it/s]"
     ]
    },
    {
     "name": "stdout",
     "output_type": "stream",
     "text": [
      "\n"
     ]
    },
    {
     "name": "stderr",
     "output_type": "stream",
     "text": [
      "loss: 0.3608:  13%|███████▌                                                    | 26426/208000 [03:15<20:12, 149.72it/s]"
     ]
    },
    {
     "name": "stdout",
     "output_type": "stream",
     "text": [
      "\n"
     ]
    },
    {
     "name": "stderr",
     "output_type": "stream",
     "text": [
      "loss: 0.3526:  13%|███████▊                                                    | 27227/208000 [03:21<20:15, 148.77it/s]"
     ]
    },
    {
     "name": "stdout",
     "output_type": "stream",
     "text": [
      "\n"
     ]
    },
    {
     "name": "stderr",
     "output_type": "stream",
     "text": [
      "loss: 0.3576:  13%|████████                                                    | 28025/208000 [03:26<21:41, 138.27it/s]"
     ]
    },
    {
     "name": "stdout",
     "output_type": "stream",
     "text": [
      "\n"
     ]
    },
    {
     "name": "stderr",
     "output_type": "stream",
     "text": [
      "loss: 0.3524:  14%|████████▎                                                   | 28825/208000 [03:32<20:47, 143.67it/s]"
     ]
    },
    {
     "name": "stdout",
     "output_type": "stream",
     "text": [
      "\n"
     ]
    },
    {
     "name": "stderr",
     "output_type": "stream",
     "text": [
      "loss: 0.3587:  14%|████████▌                                                   | 29621/208000 [03:38<20:54, 142.22it/s]"
     ]
    },
    {
     "name": "stdout",
     "output_type": "stream",
     "text": [
      "\n"
     ]
    },
    {
     "name": "stderr",
     "output_type": "stream",
     "text": [
      "loss: 0.3827:  15%|████████▊                                                   | 30424/208000 [03:43<21:13, 139.39it/s]"
     ]
    },
    {
     "name": "stdout",
     "output_type": "stream",
     "text": [
      "\n"
     ]
    },
    {
     "name": "stderr",
     "output_type": "stream",
     "text": [
      "loss: 0.3513:  15%|█████████                                                   | 31222/208000 [03:49<23:38, 124.64it/s]"
     ]
    },
    {
     "name": "stdout",
     "output_type": "stream",
     "text": [
      "\n"
     ]
    },
    {
     "name": "stderr",
     "output_type": "stream",
     "text": [
      "loss: 0.3746:  15%|█████████▏                                                  | 32025/208000 [03:55<20:49, 140.82it/s]"
     ]
    },
    {
     "name": "stdout",
     "output_type": "stream",
     "text": [
      "\n"
     ]
    },
    {
     "name": "stderr",
     "output_type": "stream",
     "text": [
      "loss: 0.3566:  16%|█████████▍                                                  | 32825/208000 [04:00<20:47, 140.43it/s]"
     ]
    },
    {
     "name": "stdout",
     "output_type": "stream",
     "text": [
      "\n"
     ]
    },
    {
     "name": "stderr",
     "output_type": "stream",
     "text": [
      "loss: 0.3509:  16%|█████████▋                                                  | 33624/208000 [04:06<19:46, 146.97it/s]"
     ]
    },
    {
     "name": "stdout",
     "output_type": "stream",
     "text": [
      "\n"
     ]
    },
    {
     "name": "stderr",
     "output_type": "stream",
     "text": [
      "loss: 0.3632:  17%|█████████▉                                                  | 34425/208000 [04:12<19:55, 145.20it/s]"
     ]
    },
    {
     "name": "stdout",
     "output_type": "stream",
     "text": [
      "\n"
     ]
    },
    {
     "name": "stderr",
     "output_type": "stream",
     "text": [
      "loss: 0.3559:  17%|██████████▏                                                 | 35227/208000 [04:18<19:36, 146.82it/s]"
     ]
    },
    {
     "name": "stdout",
     "output_type": "stream",
     "text": [
      "\n"
     ]
    },
    {
     "name": "stderr",
     "output_type": "stream",
     "text": [
      "loss: 0.3663:  17%|██████████▍                                                 | 36026/208000 [04:23<19:25, 147.53it/s]"
     ]
    },
    {
     "name": "stdout",
     "output_type": "stream",
     "text": [
      "\n"
     ]
    },
    {
     "name": "stderr",
     "output_type": "stream",
     "text": [
      "loss: 0.3568:  18%|██████████▌                                                 | 36826/208000 [04:29<19:30, 146.27it/s]"
     ]
    },
    {
     "name": "stdout",
     "output_type": "stream",
     "text": [
      "\n"
     ]
    },
    {
     "name": "stderr",
     "output_type": "stream",
     "text": [
      "loss: 0.3766:  18%|██████████▊                                                 | 37625/208000 [04:34<19:23, 146.45it/s]"
     ]
    },
    {
     "name": "stdout",
     "output_type": "stream",
     "text": [
      "\n"
     ]
    },
    {
     "name": "stderr",
     "output_type": "stream",
     "text": [
      "loss: 0.3748:  18%|███████████                                                 | 38425/208000 [04:39<19:15, 146.78it/s]"
     ]
    },
    {
     "name": "stdout",
     "output_type": "stream",
     "text": [
      "\n"
     ]
    },
    {
     "name": "stderr",
     "output_type": "stream",
     "text": [
      "loss: 0.3601:  19%|███████████▎                                                | 39225/208000 [04:45<19:13, 146.32it/s]"
     ]
    },
    {
     "name": "stdout",
     "output_type": "stream",
     "text": [
      "\n"
     ]
    },
    {
     "name": "stderr",
     "output_type": "stream",
     "text": [
      "loss: 0.3676:  19%|███████████▌                                                | 40028/208000 [04:50<18:04, 154.85it/s]"
     ]
    },
    {
     "name": "stdout",
     "output_type": "stream",
     "text": [
      "\n"
     ]
    },
    {
     "name": "stderr",
     "output_type": "stream",
     "text": [
      "loss: 0.3622:  20%|███████████▊                                                | 40824/208000 [04:56<19:49, 140.49it/s]"
     ]
    },
    {
     "name": "stdout",
     "output_type": "stream",
     "text": [
      "\n"
     ]
    },
    {
     "name": "stderr",
     "output_type": "stream",
     "text": [
      "loss: 0.3551:  20%|████████████                                                | 41625/208000 [05:02<18:46, 147.66it/s]"
     ]
    },
    {
     "name": "stdout",
     "output_type": "stream",
     "text": [
      "\n"
     ]
    },
    {
     "name": "stderr",
     "output_type": "stream",
     "text": [
      "loss: 0.3501:  20%|████████████▏                                               | 42422/208000 [05:07<22:16, 123.93it/s]"
     ]
    },
    {
     "name": "stdout",
     "output_type": "stream",
     "text": [
      "\n"
     ]
    },
    {
     "name": "stderr",
     "output_type": "stream",
     "text": [
      "loss: 0.3343:  21%|████████████▍                                               | 43223/208000 [05:13<19:34, 140.28it/s]"
     ]
    },
    {
     "name": "stdout",
     "output_type": "stream",
     "text": [
      "\n"
     ]
    },
    {
     "name": "stderr",
     "output_type": "stream",
     "text": [
      "loss: 0.3591:  21%|████████████▋                                               | 44023/208000 [05:19<21:27, 127.36it/s]"
     ]
    },
    {
     "name": "stdout",
     "output_type": "stream",
     "text": [
      "\n"
     ]
    },
    {
     "name": "stderr",
     "output_type": "stream",
     "text": [
      "loss: 0.3555:  22%|████████████▉                                               | 44825/208000 [05:25<20:26, 133.03it/s]"
     ]
    },
    {
     "name": "stdout",
     "output_type": "stream",
     "text": [
      "\n"
     ]
    },
    {
     "name": "stderr",
     "output_type": "stream",
     "text": [
      "loss: 0.3604:  22%|█████████████▏                                              | 45627/208000 [05:31<18:22, 147.22it/s]"
     ]
    },
    {
     "name": "stdout",
     "output_type": "stream",
     "text": [
      "\n"
     ]
    },
    {
     "name": "stderr",
     "output_type": "stream",
     "text": [
      "loss: 0.3624:  22%|█████████████▍                                              | 46424/208000 [05:36<19:07, 140.81it/s]"
     ]
    },
    {
     "name": "stdout",
     "output_type": "stream",
     "text": [
      "\n"
     ]
    },
    {
     "name": "stderr",
     "output_type": "stream",
     "text": [
      "loss: 0.3808:  23%|█████████████▌                                              | 47218/208000 [05:42<22:18, 120.10it/s]"
     ]
    },
    {
     "name": "stdout",
     "output_type": "stream",
     "text": [
      "\n"
     ]
    },
    {
     "name": "stderr",
     "output_type": "stream",
     "text": [
      "loss: 0.3587:  23%|█████████████▊                                              | 48026/208000 [05:48<19:18, 138.12it/s]"
     ]
    },
    {
     "name": "stdout",
     "output_type": "stream",
     "text": [
      "\n"
     ]
    },
    {
     "name": "stderr",
     "output_type": "stream",
     "text": [
      "loss: 0.3533:  23%|██████████████                                              | 48827/208000 [05:54<18:36, 142.56it/s]"
     ]
    },
    {
     "name": "stdout",
     "output_type": "stream",
     "text": [
      "\n"
     ]
    },
    {
     "name": "stderr",
     "output_type": "stream",
     "text": [
      "loss: 0.3557:  24%|██████████████▎                                             | 49628/208000 [05:59<17:30, 150.81it/s]"
     ]
    },
    {
     "name": "stdout",
     "output_type": "stream",
     "text": [
      "\n"
     ]
    },
    {
     "name": "stderr",
     "output_type": "stream",
     "text": [
      "loss: 0.3544:  24%|██████████████▌                                             | 50427/208000 [06:04<17:51, 147.05it/s]"
     ]
    },
    {
     "name": "stdout",
     "output_type": "stream",
     "text": [
      "\n"
     ]
    },
    {
     "name": "stderr",
     "output_type": "stream",
     "text": [
      "loss: 0.3511:  25%|██████████████▊                                             | 51227/208000 [06:10<17:01, 153.51it/s]"
     ]
    },
    {
     "name": "stdout",
     "output_type": "stream",
     "text": [
      "\n"
     ]
    },
    {
     "name": "stderr",
     "output_type": "stream",
     "text": [
      "loss: 0.3511:  25%|███████████████                                             | 52027/208000 [06:15<16:47, 154.87it/s]"
     ]
    },
    {
     "name": "stdout",
     "output_type": "stream",
     "text": [
      "\n"
     ]
    },
    {
     "name": "stderr",
     "output_type": "stream",
     "text": [
      "loss: 0.3555:  25%|███████████████▏                                            | 52820/208000 [06:21<21:59, 117.57it/s]"
     ]
    },
    {
     "name": "stdout",
     "output_type": "stream",
     "text": [
      "\n"
     ]
    },
    {
     "name": "stderr",
     "output_type": "stream",
     "text": [
      "loss: 0.3501:  26%|███████████████▍                                            | 53625/208000 [06:26<18:26, 139.48it/s]"
     ]
    },
    {
     "name": "stdout",
     "output_type": "stream",
     "text": [
      "\n"
     ]
    },
    {
     "name": "stderr",
     "output_type": "stream",
     "text": [
      "loss: 0.3494:  26%|███████████████▋                                            | 54425/208000 [06:32<17:58, 142.44it/s]"
     ]
    },
    {
     "name": "stdout",
     "output_type": "stream",
     "text": [
      "\n"
     ]
    },
    {
     "name": "stderr",
     "output_type": "stream",
     "text": [
      "loss: 0.3538:  27%|███████████████▉                                            | 55225/208000 [06:38<18:12, 139.88it/s]"
     ]
    },
    {
     "name": "stdout",
     "output_type": "stream",
     "text": [
      "\n"
     ]
    },
    {
     "name": "stderr",
     "output_type": "stream",
     "text": [
      "loss: 0.3468:  27%|████████████████▏                                           | 56026/208000 [06:43<17:18, 146.35it/s]"
     ]
    },
    {
     "name": "stdout",
     "output_type": "stream",
     "text": [
      "\n"
     ]
    },
    {
     "name": "stderr",
     "output_type": "stream",
     "text": [
      "loss: 0.3668:  27%|████████████████▍                                           | 56826/208000 [06:49<17:46, 141.80it/s]"
     ]
    },
    {
     "name": "stdout",
     "output_type": "stream",
     "text": [
      "\n"
     ]
    },
    {
     "name": "stderr",
     "output_type": "stream",
     "text": [
      "loss: 0.3610:  28%|████████████████▌                                           | 57625/208000 [06:55<17:25, 143.80it/s]"
     ]
    },
    {
     "name": "stdout",
     "output_type": "stream",
     "text": [
      "\n"
     ]
    },
    {
     "name": "stderr",
     "output_type": "stream",
     "text": [
      "loss: 0.3625:  28%|████████████████▊                                           | 58425/208000 [07:00<17:20, 143.81it/s]"
     ]
    },
    {
     "name": "stdout",
     "output_type": "stream",
     "text": [
      "\n"
     ]
    },
    {
     "name": "stderr",
     "output_type": "stream",
     "text": [
      "loss: 0.3683:  28%|█████████████████                                           | 59227/208000 [07:06<18:02, 137.44it/s]"
     ]
    },
    {
     "name": "stdout",
     "output_type": "stream",
     "text": [
      "\n"
     ]
    },
    {
     "name": "stderr",
     "output_type": "stream",
     "text": [
      "loss: 0.3555:  29%|█████████████████▎                                          | 60024/208000 [07:12<17:38, 139.78it/s]"
     ]
    },
    {
     "name": "stdout",
     "output_type": "stream",
     "text": [
      "\n"
     ]
    },
    {
     "name": "stderr",
     "output_type": "stream",
     "text": [
      "loss: 0.3524:  29%|█████████████████▌                                          | 60820/208000 [07:18<20:25, 120.12it/s]"
     ]
    },
    {
     "name": "stdout",
     "output_type": "stream",
     "text": [
      "\n"
     ]
    },
    {
     "name": "stderr",
     "output_type": "stream",
     "text": [
      "loss: 0.3565:  30%|█████████████████▊                                          | 61625/208000 [07:24<17:05, 142.73it/s]"
     ]
    },
    {
     "name": "stdout",
     "output_type": "stream",
     "text": [
      "\n"
     ]
    },
    {
     "name": "stderr",
     "output_type": "stream",
     "text": [
      "loss: 0.3848:  30%|██████████████████                                          | 62425/208000 [07:30<17:30, 138.61it/s]"
     ]
    },
    {
     "name": "stdout",
     "output_type": "stream",
     "text": [
      "\n"
     ]
    },
    {
     "name": "stderr",
     "output_type": "stream",
     "text": [
      "loss: 0.3723:  30%|██████████████████▏                                         | 63226/208000 [07:36<17:09, 140.64it/s]"
     ]
    },
    {
     "name": "stdout",
     "output_type": "stream",
     "text": [
      "\n"
     ]
    },
    {
     "name": "stderr",
     "output_type": "stream",
     "text": [
      "loss: 0.0030:  31%|██████████████████▍                                         | 64021/208000 [07:42<18:35, 129.11it/s]"
     ]
    },
    {
     "name": "stdout",
     "output_type": "stream",
     "text": [
      "Saving model for 1 steps\n",
      "doubling jump size: 2\n",
      "\n"
     ]
    },
    {
     "name": "stderr",
     "output_type": "stream",
     "text": [
      "loss: 0.0000:  31%|██████████████████▋                                         | 64818/208000 [07:49<23:34, 101.25it/s]"
     ]
    },
    {
     "name": "stdout",
     "output_type": "stream",
     "text": [
      "\n"
     ]
    },
    {
     "name": "stderr",
     "output_type": "stream",
     "text": [
      "loss: 0.0000:  32%|██████████████████▉                                         | 65617/208000 [07:56<23:20, 101.66it/s]"
     ]
    },
    {
     "name": "stdout",
     "output_type": "stream",
     "text": [
      "\n"
     ]
    },
    {
     "name": "stderr",
     "output_type": "stream",
     "text": [
      "loss: 0.0000:  32%|███████████████████▏                                        | 66419/208000 [08:04<21:12, 111.29it/s]"
     ]
    },
    {
     "name": "stdout",
     "output_type": "stream",
     "text": [
      "\n"
     ]
    },
    {
     "name": "stderr",
     "output_type": "stream",
     "text": [
      "loss: 0.0000:  32%|███████████████████▍                                        | 67220/208000 [08:11<21:01, 111.59it/s]"
     ]
    },
    {
     "name": "stdout",
     "output_type": "stream",
     "text": [
      "\n"
     ]
    },
    {
     "name": "stderr",
     "output_type": "stream",
     "text": [
      "loss: 0.0000:  33%|███████████████████▌                                        | 68019/208000 [08:18<21:43, 107.37it/s]"
     ]
    },
    {
     "name": "stdout",
     "output_type": "stream",
     "text": [
      "\n"
     ]
    },
    {
     "name": "stderr",
     "output_type": "stream",
     "text": [
      "loss: 0.0000:  33%|███████████████████▊                                        | 68819/208000 [08:25<20:52, 111.11it/s]"
     ]
    },
    {
     "name": "stdout",
     "output_type": "stream",
     "text": [
      "\n"
     ]
    },
    {
     "name": "stderr",
     "output_type": "stream",
     "text": [
      "loss: 0.0000:  33%|████████████████████                                        | 69620/208000 [08:33<20:18, 113.58it/s]"
     ]
    },
    {
     "name": "stdout",
     "output_type": "stream",
     "text": [
      "\n"
     ]
    },
    {
     "name": "stderr",
     "output_type": "stream",
     "text": [
      "loss: 0.0000:  34%|████████████████████▎                                       | 70421/208000 [08:40<21:24, 107.11it/s]"
     ]
    },
    {
     "name": "stdout",
     "output_type": "stream",
     "text": [
      "\n"
     ]
    },
    {
     "name": "stderr",
     "output_type": "stream",
     "text": [
      "loss: 0.0000:  34%|████████████████████▌                                       | 71220/208000 [08:47<20:06, 113.39it/s]"
     ]
    },
    {
     "name": "stdout",
     "output_type": "stream",
     "text": [
      "\n"
     ]
    },
    {
     "name": "stderr",
     "output_type": "stream",
     "text": [
      "loss: 0.0000:  35%|████████████████████▊                                       | 72021/208000 [08:54<19:53, 113.94it/s]"
     ]
    },
    {
     "name": "stdout",
     "output_type": "stream",
     "text": [
      "\n"
     ]
    },
    {
     "name": "stderr",
     "output_type": "stream",
     "text": [
      "loss: 0.0000:  35%|█████████████████████                                       | 72816/208000 [09:01<21:22, 105.41it/s]"
     ]
    },
    {
     "name": "stdout",
     "output_type": "stream",
     "text": [
      "\n"
     ]
    },
    {
     "name": "stderr",
     "output_type": "stream",
     "text": [
      "loss: 0.0000:  35%|█████████████████████▏                                      | 73619/208000 [09:09<20:08, 111.18it/s]"
     ]
    },
    {
     "name": "stdout",
     "output_type": "stream",
     "text": [
      "\n"
     ]
    },
    {
     "name": "stderr",
     "output_type": "stream",
     "text": [
      "loss: 0.0000:  36%|█████████████████████▍                                      | 74421/208000 [09:16<19:14, 115.67it/s]"
     ]
    },
    {
     "name": "stdout",
     "output_type": "stream",
     "text": [
      "\n"
     ]
    },
    {
     "name": "stderr",
     "output_type": "stream",
     "text": [
      "loss: 0.0000:  36%|█████████████████████▋                                      | 75220/208000 [09:23<19:35, 112.92it/s]"
     ]
    },
    {
     "name": "stdout",
     "output_type": "stream",
     "text": [
      "\n"
     ]
    },
    {
     "name": "stderr",
     "output_type": "stream",
     "text": [
      "loss: 0.0000:  37%|█████████████████████▉                                      | 76021/208000 [09:30<19:02, 115.51it/s]"
     ]
    },
    {
     "name": "stdout",
     "output_type": "stream",
     "text": [
      "\n"
     ]
    },
    {
     "name": "stderr",
     "output_type": "stream",
     "text": [
      "loss: 0.0000:  37%|██████████████████████▏                                     | 76821/208000 [09:37<19:24, 112.67it/s]"
     ]
    },
    {
     "name": "stdout",
     "output_type": "stream",
     "text": [
      "\n"
     ]
    },
    {
     "name": "stderr",
     "output_type": "stream",
     "text": [
      "loss: 0.0000:  37%|██████████████████████▍                                     | 77620/208000 [09:44<18:45, 115.83it/s]"
     ]
    },
    {
     "name": "stdout",
     "output_type": "stream",
     "text": [
      "\n"
     ]
    },
    {
     "name": "stderr",
     "output_type": "stream",
     "text": [
      "loss: 0.0000:  38%|██████████████████████▌                                     | 78420/208000 [09:51<19:16, 112.00it/s]"
     ]
    },
    {
     "name": "stdout",
     "output_type": "stream",
     "text": [
      "\n"
     ]
    },
    {
     "name": "stderr",
     "output_type": "stream",
     "text": [
      "loss: 0.0000:  38%|██████████████████████▊                                     | 79220/208000 [09:58<18:30, 116.01it/s]"
     ]
    },
    {
     "name": "stdout",
     "output_type": "stream",
     "text": [
      "\n"
     ]
    },
    {
     "name": "stderr",
     "output_type": "stream",
     "text": [
      "loss: 0.0012:  38%|███████████████████████                                     | 80021/208000 [10:05<18:36, 114.66it/s]"
     ]
    },
    {
     "name": "stdout",
     "output_type": "stream",
     "text": [
      "Saving model for 2 steps\n",
      "doubling jump size: 4\n",
      "\n"
     ]
    },
    {
     "name": "stderr",
     "output_type": "stream",
     "text": [
      "loss: 0.0000:  39%|███████████████████████▎                                    | 80821/208000 [10:12<18:20, 115.52it/s]"
     ]
    },
    {
     "name": "stdout",
     "output_type": "stream",
     "text": [
      "\n"
     ]
    },
    {
     "name": "stderr",
     "output_type": "stream",
     "text": [
      "loss: 0.0000:  39%|███████████████████████▌                                    | 81621/208000 [10:19<18:11, 115.81it/s]"
     ]
    },
    {
     "name": "stdout",
     "output_type": "stream",
     "text": [
      "\n"
     ]
    },
    {
     "name": "stderr",
     "output_type": "stream",
     "text": [
      "loss: 0.0000:  40%|███████████████████████▊                                    | 82421/208000 [10:26<18:02, 116.00it/s]"
     ]
    },
    {
     "name": "stdout",
     "output_type": "stream",
     "text": [
      "\n"
     ]
    },
    {
     "name": "stderr",
     "output_type": "stream",
     "text": [
      "loss: 0.0000:  40%|████████████████████████                                    | 83220/208000 [10:33<17:59, 115.64it/s]"
     ]
    },
    {
     "name": "stdout",
     "output_type": "stream",
     "text": [
      "\n"
     ]
    },
    {
     "name": "stderr",
     "output_type": "stream",
     "text": [
      "loss: 0.0000:  40%|████████████████████████▏                                   | 84018/208000 [10:40<18:36, 111.03it/s]"
     ]
    },
    {
     "name": "stdout",
     "output_type": "stream",
     "text": [
      "\n"
     ]
    },
    {
     "name": "stderr",
     "output_type": "stream",
     "text": [
      "loss: 0.0000:  41%|████████████████████████▍                                   | 84821/208000 [10:47<17:53, 114.77it/s]"
     ]
    },
    {
     "name": "stdout",
     "output_type": "stream",
     "text": [
      "\n"
     ]
    },
    {
     "name": "stderr",
     "output_type": "stream",
     "text": [
      "loss: 0.0000:  41%|████████████████████████▋                                   | 85620/208000 [10:54<17:38, 115.63it/s]"
     ]
    },
    {
     "name": "stdout",
     "output_type": "stream",
     "text": [
      "\n"
     ]
    },
    {
     "name": "stderr",
     "output_type": "stream",
     "text": [
      "loss: 0.0000:  42%|████████████████████████▉                                   | 86421/208000 [11:01<17:28, 115.98it/s]"
     ]
    },
    {
     "name": "stdout",
     "output_type": "stream",
     "text": [
      "\n"
     ]
    },
    {
     "name": "stderr",
     "output_type": "stream",
     "text": [
      "loss: 0.0000:  42%|█████████████████████████▏                                  | 87221/208000 [11:08<17:33, 114.63it/s]"
     ]
    },
    {
     "name": "stdout",
     "output_type": "stream",
     "text": [
      "\n"
     ]
    },
    {
     "name": "stderr",
     "output_type": "stream",
     "text": [
      "loss: 0.0000:  42%|█████████████████████████▍                                  | 88020/208000 [11:15<17:08, 116.61it/s]"
     ]
    },
    {
     "name": "stdout",
     "output_type": "stream",
     "text": [
      "\n"
     ]
    },
    {
     "name": "stderr",
     "output_type": "stream",
     "text": [
      "loss: 0.0000:  43%|█████████████████████████▌                                  | 88820/208000 [11:22<17:19, 114.60it/s]"
     ]
    },
    {
     "name": "stdout",
     "output_type": "stream",
     "text": [
      "\n"
     ]
    },
    {
     "name": "stderr",
     "output_type": "stream",
     "text": [
      "loss: 0.0000:  43%|█████████████████████████▊                                  | 89620/208000 [11:29<17:19, 113.87it/s]"
     ]
    },
    {
     "name": "stdout",
     "output_type": "stream",
     "text": [
      "\n"
     ]
    },
    {
     "name": "stderr",
     "output_type": "stream",
     "text": [
      "loss: 0.0000:  43%|██████████████████████████                                  | 90421/208000 [11:36<17:02, 115.00it/s]"
     ]
    },
    {
     "name": "stdout",
     "output_type": "stream",
     "text": [
      "\n"
     ]
    },
    {
     "name": "stderr",
     "output_type": "stream",
     "text": [
      "loss: 0.0000:  44%|██████████████████████████▎                                 | 91219/208000 [11:43<17:13, 113.02it/s]"
     ]
    },
    {
     "name": "stdout",
     "output_type": "stream",
     "text": [
      "\n"
     ]
    },
    {
     "name": "stderr",
     "output_type": "stream",
     "text": [
      "loss: 0.0000:  44%|██████████████████████████▌                                 | 92021/208000 [11:50<16:48, 114.96it/s]"
     ]
    },
    {
     "name": "stdout",
     "output_type": "stream",
     "text": [
      "\n"
     ]
    },
    {
     "name": "stderr",
     "output_type": "stream",
     "text": [
      "loss: 0.0000:  45%|██████████████████████████▊                                 | 92820/208000 [11:57<16:41, 115.04it/s]"
     ]
    },
    {
     "name": "stdout",
     "output_type": "stream",
     "text": [
      "\n"
     ]
    },
    {
     "name": "stderr",
     "output_type": "stream",
     "text": [
      "loss: 0.0000:  45%|███████████████████████████                                 | 93620/208000 [12:04<16:40, 114.27it/s]"
     ]
    },
    {
     "name": "stdout",
     "output_type": "stream",
     "text": [
      "\n"
     ]
    },
    {
     "name": "stderr",
     "output_type": "stream",
     "text": [
      "loss: 0.0000:  45%|███████████████████████████▏                                | 94421/208000 [12:11<16:48, 112.65it/s]"
     ]
    },
    {
     "name": "stdout",
     "output_type": "stream",
     "text": [
      "\n"
     ]
    },
    {
     "name": "stderr",
     "output_type": "stream",
     "text": [
      "loss: 0.0000:  46%|███████████████████████████▍                                | 95221/208000 [12:18<16:21, 114.88it/s]"
     ]
    },
    {
     "name": "stdout",
     "output_type": "stream",
     "text": [
      "\n"
     ]
    },
    {
     "name": "stderr",
     "output_type": "stream",
     "text": [
      "loss: 0.0021:  46%|███████████████████████████▋                                | 96020/208000 [12:25<16:42, 111.68it/s]"
     ]
    },
    {
     "name": "stdout",
     "output_type": "stream",
     "text": [
      "Saving model for 4 steps\n",
      "doubling jump size: 8\n",
      "\n"
     ]
    },
    {
     "name": "stderr",
     "output_type": "stream",
     "text": [
      "loss: 0.0000:  47%|███████████████████████████▉                                | 96820/208000 [12:32<15:53, 116.57it/s]"
     ]
    },
    {
     "name": "stdout",
     "output_type": "stream",
     "text": [
      "\n"
     ]
    },
    {
     "name": "stderr",
     "output_type": "stream",
     "text": [
      "loss: 0.0000:  47%|████████████████████████████▏                               | 97619/208000 [12:39<16:51, 109.07it/s]"
     ]
    },
    {
     "name": "stdout",
     "output_type": "stream",
     "text": [
      "\n"
     ]
    },
    {
     "name": "stderr",
     "output_type": "stream",
     "text": [
      "loss: 0.0001:  47%|████████████████████████████▍                               | 98421/208000 [12:46<15:55, 114.68it/s]"
     ]
    },
    {
     "name": "stdout",
     "output_type": "stream",
     "text": [
      "\n"
     ]
    },
    {
     "name": "stderr",
     "output_type": "stream",
     "text": [
      "loss: 0.0000:  48%|████████████████████████████▌                               | 99220/208000 [12:53<15:51, 114.30it/s]"
     ]
    },
    {
     "name": "stdout",
     "output_type": "stream",
     "text": [
      "\n"
     ]
    },
    {
     "name": "stderr",
     "output_type": "stream",
     "text": [
      "loss: 0.0001:  48%|████████████████████████████▎                              | 100020/208000 [13:00<15:49, 113.70it/s]"
     ]
    },
    {
     "name": "stdout",
     "output_type": "stream",
     "text": [
      "\n"
     ]
    },
    {
     "name": "stderr",
     "output_type": "stream",
     "text": [
      "loss: 0.0000:  48%|████████████████████████████▌                              | 100821/208000 [13:07<15:33, 114.82it/s]"
     ]
    },
    {
     "name": "stdout",
     "output_type": "stream",
     "text": [
      "\n"
     ]
    },
    {
     "name": "stderr",
     "output_type": "stream",
     "text": [
      "loss: 0.0000:  49%|████████████████████████████▊                              | 101619/208000 [13:14<15:42, 112.89it/s]"
     ]
    },
    {
     "name": "stdout",
     "output_type": "stream",
     "text": [
      "\n"
     ]
    },
    {
     "name": "stderr",
     "output_type": "stream",
     "text": [
      "loss: 0.0000:  49%|█████████████████████████████                              | 102420/208000 [13:21<15:15, 115.39it/s]"
     ]
    },
    {
     "name": "stdout",
     "output_type": "stream",
     "text": [
      "\n"
     ]
    },
    {
     "name": "stderr",
     "output_type": "stream",
     "text": [
      "loss: 0.0000:  50%|█████████████████████████████▎                             | 103220/208000 [13:28<15:20, 113.85it/s]"
     ]
    },
    {
     "name": "stdout",
     "output_type": "stream",
     "text": [
      "\n"
     ]
    },
    {
     "name": "stderr",
     "output_type": "stream",
     "text": [
      "loss: 0.0000:  50%|█████████████████████████████▌                             | 104019/208000 [13:35<15:02, 115.15it/s]"
     ]
    },
    {
     "name": "stdout",
     "output_type": "stream",
     "text": [
      "\n"
     ]
    },
    {
     "name": "stderr",
     "output_type": "stream",
     "text": [
      "loss: 0.0000:  50%|█████████████████████████████▋                             | 104821/208000 [13:42<14:54, 115.34it/s]"
     ]
    },
    {
     "name": "stdout",
     "output_type": "stream",
     "text": [
      "\n"
     ]
    },
    {
     "name": "stderr",
     "output_type": "stream",
     "text": [
      "loss: 0.0000:  51%|█████████████████████████████▉                             | 105621/208000 [13:49<14:50, 115.03it/s]"
     ]
    },
    {
     "name": "stdout",
     "output_type": "stream",
     "text": [
      "\n"
     ]
    },
    {
     "name": "stderr",
     "output_type": "stream",
     "text": [
      "loss: 0.0000:  51%|██████████████████████████████▏                            | 106420/208000 [13:56<15:02, 112.58it/s]"
     ]
    },
    {
     "name": "stdout",
     "output_type": "stream",
     "text": [
      "\n"
     ]
    },
    {
     "name": "stderr",
     "output_type": "stream",
     "text": [
      "loss: 0.0000:  52%|██████████████████████████████▍                            | 107220/208000 [14:03<14:33, 115.38it/s]"
     ]
    },
    {
     "name": "stdout",
     "output_type": "stream",
     "text": [
      "\n"
     ]
    },
    {
     "name": "stderr",
     "output_type": "stream",
     "text": [
      "loss: 0.0000:  52%|██████████████████████████████▋                            | 108020/208000 [14:10<14:37, 113.95it/s]"
     ]
    },
    {
     "name": "stdout",
     "output_type": "stream",
     "text": [
      "\n"
     ]
    },
    {
     "name": "stderr",
     "output_type": "stream",
     "text": [
      "loss: 0.0000:  52%|██████████████████████████████▊                            | 108819/208000 [14:17<14:28, 114.26it/s]"
     ]
    },
    {
     "name": "stdout",
     "output_type": "stream",
     "text": [
      "\n"
     ]
    },
    {
     "name": "stderr",
     "output_type": "stream",
     "text": [
      "loss: 0.0000:  53%|███████████████████████████████                            | 109621/208000 [14:24<14:05, 116.36it/s]"
     ]
    },
    {
     "name": "stdout",
     "output_type": "stream",
     "text": [
      "\n"
     ]
    },
    {
     "name": "stderr",
     "output_type": "stream",
     "text": [
      "loss: 0.0000:  53%|███████████████████████████████▎                           | 110420/208000 [14:31<14:01, 115.95it/s]"
     ]
    },
    {
     "name": "stdout",
     "output_type": "stream",
     "text": [
      "\n"
     ]
    },
    {
     "name": "stderr",
     "output_type": "stream",
     "text": [
      "loss: 0.0000:  53%|███████████████████████████████▌                           | 111221/208000 [14:38<14:18, 112.77it/s]"
     ]
    },
    {
     "name": "stdout",
     "output_type": "stream",
     "text": [
      "\n"
     ]
    },
    {
     "name": "stderr",
     "output_type": "stream",
     "text": [
      "loss: 0.0043:  54%|███████████████████████████████▊                           | 112019/208000 [14:45<14:20, 111.56it/s]"
     ]
    },
    {
     "name": "stdout",
     "output_type": "stream",
     "text": [
      "Saving model for 8 steps\n",
      "doubling jump size: 16\n",
      "\n"
     ]
    },
    {
     "name": "stderr",
     "output_type": "stream",
     "text": [
      "loss: 0.0005:  54%|████████████████████████████████                           | 112820/208000 [14:52<13:45, 115.27it/s]"
     ]
    },
    {
     "name": "stdout",
     "output_type": "stream",
     "text": [
      "\n"
     ]
    },
    {
     "name": "stderr",
     "output_type": "stream",
     "text": [
      "loss: 0.0002:  55%|████████████████████████████████▏                          | 113620/208000 [14:59<13:35, 115.80it/s]"
     ]
    },
    {
     "name": "stdout",
     "output_type": "stream",
     "text": [
      "\n"
     ]
    },
    {
     "name": "stderr",
     "output_type": "stream",
     "text": [
      "loss: 0.0001:  55%|████████████████████████████████▍                          | 114420/208000 [15:06<13:44, 113.43it/s]"
     ]
    },
    {
     "name": "stdout",
     "output_type": "stream",
     "text": [
      "\n"
     ]
    },
    {
     "name": "stderr",
     "output_type": "stream",
     "text": [
      "loss: 0.0001:  55%|████████████████████████████████▋                          | 115221/208000 [15:13<13:18, 116.12it/s]"
     ]
    },
    {
     "name": "stdout",
     "output_type": "stream",
     "text": [
      "\n"
     ]
    },
    {
     "name": "stderr",
     "output_type": "stream",
     "text": [
      "loss: 0.0001:  56%|████████████████████████████████▉                          | 116020/208000 [15:20<13:22, 114.60it/s]"
     ]
    },
    {
     "name": "stdout",
     "output_type": "stream",
     "text": [
      "\n"
     ]
    },
    {
     "name": "stderr",
     "output_type": "stream",
     "text": [
      "loss: 0.0001:  56%|█████████████████████████████████▏                         | 116818/208000 [15:27<13:52, 109.55it/s]"
     ]
    },
    {
     "name": "stdout",
     "output_type": "stream",
     "text": [
      "\n"
     ]
    },
    {
     "name": "stderr",
     "output_type": "stream",
     "text": [
      "loss: 0.0001:  57%|█████████████████████████████████▎                         | 117620/208000 [15:34<13:19, 112.98it/s]"
     ]
    },
    {
     "name": "stdout",
     "output_type": "stream",
     "text": [
      "\n"
     ]
    },
    {
     "name": "stderr",
     "output_type": "stream",
     "text": [
      "loss: 0.0003:  57%|█████████████████████████████████▌                         | 118421/208000 [15:41<12:58, 115.07it/s]"
     ]
    },
    {
     "name": "stdout",
     "output_type": "stream",
     "text": [
      "\n"
     ]
    },
    {
     "name": "stderr",
     "output_type": "stream",
     "text": [
      "loss: 0.0001:  57%|█████████████████████████████████▊                         | 119219/208000 [15:48<13:12, 111.99it/s]"
     ]
    },
    {
     "name": "stdout",
     "output_type": "stream",
     "text": [
      "\n"
     ]
    },
    {
     "name": "stderr",
     "output_type": "stream",
     "text": [
      "loss: 0.0001:  58%|██████████████████████████████████                         | 120020/208000 [15:55<12:35, 116.49it/s]"
     ]
    },
    {
     "name": "stdout",
     "output_type": "stream",
     "text": [
      "\n"
     ]
    },
    {
     "name": "stderr",
     "output_type": "stream",
     "text": [
      "loss: 0.0001:  58%|██████████████████████████████████▎                        | 120820/208000 [16:02<12:42, 114.36it/s]"
     ]
    },
    {
     "name": "stdout",
     "output_type": "stream",
     "text": [
      "\n"
     ]
    },
    {
     "name": "stderr",
     "output_type": "stream",
     "text": [
      "loss: 0.0003:  58%|██████████████████████████████████▍                        | 121620/208000 [16:09<12:31, 114.87it/s]"
     ]
    },
    {
     "name": "stdout",
     "output_type": "stream",
     "text": [
      "\n"
     ]
    },
    {
     "name": "stderr",
     "output_type": "stream",
     "text": [
      "loss: 0.0002:  59%|██████████████████████████████████▋                        | 122421/208000 [16:16<12:20, 115.50it/s]"
     ]
    },
    {
     "name": "stdout",
     "output_type": "stream",
     "text": [
      "\n"
     ]
    },
    {
     "name": "stderr",
     "output_type": "stream",
     "text": [
      "loss: 0.0001:  59%|██████████████████████████████████▉                        | 123221/208000 [16:23<12:15, 115.19it/s]"
     ]
    },
    {
     "name": "stdout",
     "output_type": "stream",
     "text": [
      "\n"
     ]
    },
    {
     "name": "stderr",
     "output_type": "stream",
     "text": [
      "loss: 0.0003:  60%|███████████████████████████████████▏                       | 124020/208000 [16:30<12:07, 115.44it/s]"
     ]
    },
    {
     "name": "stdout",
     "output_type": "stream",
     "text": [
      "\n"
     ]
    },
    {
     "name": "stderr",
     "output_type": "stream",
     "text": [
      "loss: 0.0001:  60%|███████████████████████████████████▍                       | 124821/208000 [16:37<12:09, 114.02it/s]"
     ]
    },
    {
     "name": "stdout",
     "output_type": "stream",
     "text": [
      "\n"
     ]
    },
    {
     "name": "stderr",
     "output_type": "stream",
     "text": [
      "loss: 0.0001:  60%|███████████████████████████████████▋                       | 125620/208000 [16:44<11:53, 115.53it/s]"
     ]
    },
    {
     "name": "stdout",
     "output_type": "stream",
     "text": [
      "\n"
     ]
    },
    {
     "name": "stderr",
     "output_type": "stream",
     "text": [
      "loss: 0.0003:  61%|███████████████████████████████████▊                       | 126421/208000 [16:51<11:49, 115.05it/s]"
     ]
    },
    {
     "name": "stdout",
     "output_type": "stream",
     "text": [
      "\n"
     ]
    },
    {
     "name": "stderr",
     "output_type": "stream",
     "text": [
      "loss: 0.0009:  61%|████████████████████████████████████                       | 127221/208000 [16:58<11:58, 112.35it/s]"
     ]
    },
    {
     "name": "stdout",
     "output_type": "stream",
     "text": [
      "\n"
     ]
    },
    {
     "name": "stderr",
     "output_type": "stream",
     "text": [
      "loss: 0.0046:  62%|████████████████████████████████████▎                      | 128021/208000 [17:05<11:45, 113.43it/s]"
     ]
    },
    {
     "name": "stdout",
     "output_type": "stream",
     "text": [
      "Saving model for 16 steps\n",
      "doubling jump size: 32\n",
      "\n"
     ]
    },
    {
     "name": "stderr",
     "output_type": "stream",
     "text": [
      "loss: 0.0002:  62%|████████████████████████████████████▌                      | 128820/208000 [17:12<11:45, 112.29it/s]"
     ]
    },
    {
     "name": "stdout",
     "output_type": "stream",
     "text": [
      "\n"
     ]
    },
    {
     "name": "stderr",
     "output_type": "stream",
     "text": [
      "loss: 0.0003:  62%|████████████████████████████████████▊                      | 129620/208000 [17:19<11:23, 114.66it/s]"
     ]
    },
    {
     "name": "stdout",
     "output_type": "stream",
     "text": [
      "\n"
     ]
    },
    {
     "name": "stderr",
     "output_type": "stream",
     "text": [
      "loss: 0.0002:  63%|████████████████████████████████████▉                      | 130419/208000 [17:26<11:13, 115.19it/s]"
     ]
    },
    {
     "name": "stdout",
     "output_type": "stream",
     "text": [
      "\n"
     ]
    },
    {
     "name": "stderr",
     "output_type": "stream",
     "text": [
      "loss: 0.0001:  63%|█████████████████████████████████████▏                     | 131219/208000 [17:33<11:20, 112.86it/s]"
     ]
    },
    {
     "name": "stdout",
     "output_type": "stream",
     "text": [
      "\n"
     ]
    },
    {
     "name": "stderr",
     "output_type": "stream",
     "text": [
      "loss: 0.0003:  63%|█████████████████████████████████████▍                     | 132019/208000 [17:40<11:27, 110.47it/s]"
     ]
    },
    {
     "name": "stdout",
     "output_type": "stream",
     "text": [
      "\n"
     ]
    },
    {
     "name": "stderr",
     "output_type": "stream",
     "text": [
      "loss: 0.0001:  64%|█████████████████████████████████████▋                     | 132820/208000 [17:47<10:51, 115.47it/s]"
     ]
    },
    {
     "name": "stdout",
     "output_type": "stream",
     "text": [
      "\n"
     ]
    },
    {
     "name": "stderr",
     "output_type": "stream",
     "text": [
      "loss: 0.0001:  64%|█████████████████████████████████████▉                     | 133619/208000 [17:54<11:04, 111.85it/s]"
     ]
    },
    {
     "name": "stdout",
     "output_type": "stream",
     "text": [
      "\n"
     ]
    },
    {
     "name": "stderr",
     "output_type": "stream",
     "text": [
      "loss: 0.0001:  65%|██████████████████████████████████████▏                    | 134420/208000 [18:01<10:39, 115.03it/s]"
     ]
    },
    {
     "name": "stdout",
     "output_type": "stream",
     "text": [
      "\n"
     ]
    },
    {
     "name": "stderr",
     "output_type": "stream",
     "text": [
      "loss: 0.0001:  65%|██████████████████████████████████████▎                    | 135221/208000 [18:08<10:29, 115.57it/s]"
     ]
    },
    {
     "name": "stdout",
     "output_type": "stream",
     "text": [
      "\n"
     ]
    },
    {
     "name": "stderr",
     "output_type": "stream",
     "text": [
      "loss: 0.0000:  65%|██████████████████████████████████████▌                    | 136020/208000 [18:15<10:42, 112.07it/s]"
     ]
    },
    {
     "name": "stdout",
     "output_type": "stream",
     "text": [
      "\n"
     ]
    },
    {
     "name": "stderr",
     "output_type": "stream",
     "text": [
      "loss: 0.0001:  66%|██████████████████████████████████████▊                    | 136819/208000 [18:22<10:47, 109.98it/s]"
     ]
    },
    {
     "name": "stdout",
     "output_type": "stream",
     "text": [
      "\n"
     ]
    },
    {
     "name": "stderr",
     "output_type": "stream",
     "text": [
      "loss: 0.0001:  66%|███████████████████████████████████████                    | 137620/208000 [18:29<10:09, 115.47it/s]"
     ]
    },
    {
     "name": "stdout",
     "output_type": "stream",
     "text": [
      "\n"
     ]
    },
    {
     "name": "stderr",
     "output_type": "stream",
     "text": [
      "loss: 0.0001:  67%|███████████████████████████████████████▎                   | 138421/208000 [18:36<10:11, 113.70it/s]"
     ]
    },
    {
     "name": "stdout",
     "output_type": "stream",
     "text": [
      "\n"
     ]
    },
    {
     "name": "stderr",
     "output_type": "stream",
     "text": [
      "loss: 0.0001:  67%|████████████████████████████████████████▏                   | 139213/208000 [18:43<11:46, 97.34it/s]"
     ]
    },
    {
     "name": "stdout",
     "output_type": "stream",
     "text": [
      "\n"
     ]
    },
    {
     "name": "stderr",
     "output_type": "stream",
     "text": [
      "loss: 0.0002:  67%|███████████████████████████████████████▋                   | 140020/208000 [18:51<10:04, 112.48it/s]"
     ]
    },
    {
     "name": "stdout",
     "output_type": "stream",
     "text": [
      "\n"
     ]
    },
    {
     "name": "stderr",
     "output_type": "stream",
     "text": [
      "loss: 0.0001:  68%|███████████████████████████████████████▉                   | 140821/208000 [18:58<09:49, 114.04it/s]"
     ]
    },
    {
     "name": "stdout",
     "output_type": "stream",
     "text": [
      "\n"
     ]
    },
    {
     "name": "stderr",
     "output_type": "stream",
     "text": [
      "loss: 0.0001:  68%|████████████████████████████████████████▏                  | 141619/208000 [19:05<09:57, 111.04it/s]"
     ]
    },
    {
     "name": "stdout",
     "output_type": "stream",
     "text": [
      "\n"
     ]
    },
    {
     "name": "stderr",
     "output_type": "stream",
     "text": [
      "loss: 0.0002:  68%|████████████████████████████████████████▍                  | 142421/208000 [19:12<09:39, 113.10it/s]"
     ]
    },
    {
     "name": "stdout",
     "output_type": "stream",
     "text": [
      "\n"
     ]
    },
    {
     "name": "stderr",
     "output_type": "stream",
     "text": [
      "loss: 0.0004:  69%|████████████████████████████████████████▌                  | 143220/208000 [19:19<09:35, 112.59it/s]"
     ]
    },
    {
     "name": "stdout",
     "output_type": "stream",
     "text": [
      "\n"
     ]
    },
    {
     "name": "stderr",
     "output_type": "stream",
     "text": [
      "loss: 0.0078:  69%|████████████████████████████████████████▊                  | 144020/208000 [19:26<09:27, 112.82it/s]"
     ]
    },
    {
     "name": "stdout",
     "output_type": "stream",
     "text": [
      "Saving model for 32 steps\n",
      "doubling jump size: 64\n",
      "\n"
     ]
    },
    {
     "name": "stderr",
     "output_type": "stream",
     "text": [
      "loss: 0.0005:  70%|█████████████████████████████████████████                  | 144820/208000 [19:33<09:20, 112.79it/s]"
     ]
    },
    {
     "name": "stdout",
     "output_type": "stream",
     "text": [
      "\n"
     ]
    },
    {
     "name": "stderr",
     "output_type": "stream",
     "text": [
      "loss: 0.0059:  70%|█████████████████████████████████████████▎                 | 145621/208000 [19:41<09:09, 113.62it/s]"
     ]
    },
    {
     "name": "stdout",
     "output_type": "stream",
     "text": [
      "\n"
     ]
    },
    {
     "name": "stderr",
     "output_type": "stream",
     "text": [
      "loss: 0.0002:  70%|█████████████████████████████████████████▌                 | 146419/208000 [19:48<09:42, 105.73it/s]"
     ]
    },
    {
     "name": "stdout",
     "output_type": "stream",
     "text": [
      "\n"
     ]
    },
    {
     "name": "stderr",
     "output_type": "stream",
     "text": [
      "loss: 0.0001:  71%|█████████████████████████████████████████▊                 | 147221/208000 [19:55<08:59, 112.74it/s]"
     ]
    },
    {
     "name": "stdout",
     "output_type": "stream",
     "text": [
      "\n"
     ]
    },
    {
     "name": "stderr",
     "output_type": "stream",
     "text": [
      "loss: 0.0002:  71%|█████████████████████████████████████████▉                 | 148020/208000 [20:02<08:51, 112.86it/s]"
     ]
    },
    {
     "name": "stdout",
     "output_type": "stream",
     "text": [
      "\n"
     ]
    },
    {
     "name": "stderr",
     "output_type": "stream",
     "text": [
      "loss: 0.0001:  72%|██████████████████████████████████████████▏                | 148821/208000 [20:09<08:50, 111.61it/s]"
     ]
    },
    {
     "name": "stdout",
     "output_type": "stream",
     "text": [
      "\n"
     ]
    },
    {
     "name": "stderr",
     "output_type": "stream",
     "text": [
      "loss: 0.0002:  72%|██████████████████████████████████████████▍                | 149620/208000 [20:16<08:06, 119.99it/s]"
     ]
    },
    {
     "name": "stdout",
     "output_type": "stream",
     "text": [
      "\n"
     ]
    },
    {
     "name": "stderr",
     "output_type": "stream",
     "text": [
      "loss: 0.0002:  72%|██████████████████████████████████████████▋                | 150419/208000 [20:24<08:43, 110.06it/s]"
     ]
    },
    {
     "name": "stdout",
     "output_type": "stream",
     "text": [
      "\n"
     ]
    },
    {
     "name": "stderr",
     "output_type": "stream",
     "text": [
      "loss: 0.0002:  73%|██████████████████████████████████████████▉                | 151220/208000 [20:31<08:10, 115.76it/s]"
     ]
    },
    {
     "name": "stdout",
     "output_type": "stream",
     "text": [
      "\n"
     ]
    },
    {
     "name": "stderr",
     "output_type": "stream",
     "text": [
      "loss: 0.0023:  73%|███████████████████████████████████████████                | 152020/208000 [20:38<08:04, 115.52it/s]"
     ]
    },
    {
     "name": "stdout",
     "output_type": "stream",
     "text": [
      "\n"
     ]
    },
    {
     "name": "stderr",
     "output_type": "stream",
     "text": [
      "loss: 0.0001:  73%|███████████████████████████████████████████▎               | 152820/208000 [20:45<08:07, 113.28it/s]"
     ]
    },
    {
     "name": "stdout",
     "output_type": "stream",
     "text": [
      "\n"
     ]
    },
    {
     "name": "stderr",
     "output_type": "stream",
     "text": [
      "loss: 0.0001:  74%|███████████████████████████████████████████▌               | 153620/208000 [20:52<08:12, 110.46it/s]"
     ]
    },
    {
     "name": "stdout",
     "output_type": "stream",
     "text": [
      "\n"
     ]
    },
    {
     "name": "stderr",
     "output_type": "stream",
     "text": [
      "loss: 0.0002:  74%|███████████████████████████████████████████▊               | 154419/208000 [20:59<08:01, 111.30it/s]"
     ]
    },
    {
     "name": "stdout",
     "output_type": "stream",
     "text": [
      "\n"
     ]
    },
    {
     "name": "stderr",
     "output_type": "stream",
     "text": [
      "loss: 0.0008:  75%|████████████████████████████████████████████               | 155220/208000 [21:06<07:50, 112.08it/s]"
     ]
    },
    {
     "name": "stdout",
     "output_type": "stream",
     "text": [
      "\n"
     ]
    },
    {
     "name": "stderr",
     "output_type": "stream",
     "text": [
      "loss: 0.0003:  75%|████████████████████████████████████████████▎              | 156019/208000 [21:13<07:49, 110.81it/s]"
     ]
    },
    {
     "name": "stdout",
     "output_type": "stream",
     "text": [
      "\n"
     ]
    },
    {
     "name": "stderr",
     "output_type": "stream",
     "text": [
      "loss: 0.0008:  75%|████████████████████████████████████████████▍              | 156820/208000 [21:21<07:42, 110.77it/s]"
     ]
    },
    {
     "name": "stdout",
     "output_type": "stream",
     "text": [
      "\n"
     ]
    },
    {
     "name": "stderr",
     "output_type": "stream",
     "text": [
      "loss: 0.0026:  76%|████████████████████████████████████████████▋              | 157620/208000 [21:28<07:35, 110.59it/s]"
     ]
    },
    {
     "name": "stdout",
     "output_type": "stream",
     "text": [
      "\n"
     ]
    },
    {
     "name": "stderr",
     "output_type": "stream",
     "text": [
      "loss: 0.0002:  76%|████████████████████████████████████████████▉              | 158418/208000 [21:35<07:33, 109.27it/s]"
     ]
    },
    {
     "name": "stdout",
     "output_type": "stream",
     "text": [
      "\n"
     ]
    },
    {
     "name": "stderr",
     "output_type": "stream",
     "text": [
      "loss: 0.0000:  77%|█████████████████████████████████████████████▏             | 159221/208000 [21:42<07:11, 113.16it/s]"
     ]
    },
    {
     "name": "stdout",
     "output_type": "stream",
     "text": [
      "\n"
     ]
    },
    {
     "name": "stderr",
     "output_type": "stream",
     "text": [
      "loss: 0.0168:  77%|█████████████████████████████████████████████▍             | 160018/208000 [21:49<07:46, 102.87it/s]"
     ]
    },
    {
     "name": "stdout",
     "output_type": "stream",
     "text": [
      "Saving model for 64 steps\n",
      "doubling jump size: 128\n",
      "\n"
     ]
    },
    {
     "name": "stderr",
     "output_type": "stream",
     "text": [
      "loss: 0.0004:  77%|█████████████████████████████████████████████▌             | 160820/208000 [21:56<06:58, 112.79it/s]"
     ]
    },
    {
     "name": "stdout",
     "output_type": "stream",
     "text": [
      "\n"
     ]
    },
    {
     "name": "stderr",
     "output_type": "stream",
     "text": [
      "loss: 0.0002:  78%|█████████████████████████████████████████████▊             | 161621/208000 [22:03<06:38, 116.40it/s]"
     ]
    },
    {
     "name": "stdout",
     "output_type": "stream",
     "text": [
      "\n"
     ]
    },
    {
     "name": "stderr",
     "output_type": "stream",
     "text": [
      "loss: 0.0001:  78%|██████████████████████████████████████████████             | 162420/208000 [22:10<06:44, 112.59it/s]"
     ]
    },
    {
     "name": "stdout",
     "output_type": "stream",
     "text": [
      "\n"
     ]
    },
    {
     "name": "stderr",
     "output_type": "stream",
     "text": [
      "loss: 0.0004:  78%|██████████████████████████████████████████████▎            | 163218/208000 [22:17<06:39, 111.96it/s]"
     ]
    },
    {
     "name": "stdout",
     "output_type": "stream",
     "text": [
      "\n"
     ]
    },
    {
     "name": "stderr",
     "output_type": "stream",
     "text": [
      "loss: 0.0002:  79%|██████████████████████████████████████████████▌            | 164020/208000 [22:24<06:18, 116.14it/s]"
     ]
    },
    {
     "name": "stdout",
     "output_type": "stream",
     "text": [
      "\n"
     ]
    },
    {
     "name": "stderr",
     "output_type": "stream",
     "text": [
      "loss: 0.0002:  79%|██████████████████████████████████████████████▊            | 164820/208000 [22:31<06:20, 113.46it/s]"
     ]
    },
    {
     "name": "stdout",
     "output_type": "stream",
     "text": [
      "\n"
     ]
    },
    {
     "name": "stderr",
     "output_type": "stream",
     "text": [
      "loss: 0.0016:  80%|██████████████████████████████████████████████▉            | 165620/208000 [22:38<06:12, 113.64it/s]"
     ]
    },
    {
     "name": "stdout",
     "output_type": "stream",
     "text": [
      "\n"
     ]
    },
    {
     "name": "stderr",
     "output_type": "stream",
     "text": [
      "loss: 0.0002:  80%|███████████████████████████████████████████████▏           | 166421/208000 [22:45<06:07, 113.27it/s]"
     ]
    },
    {
     "name": "stdout",
     "output_type": "stream",
     "text": [
      "\n"
     ]
    },
    {
     "name": "stderr",
     "output_type": "stream",
     "text": [
      "loss: 0.0001:  80%|███████████████████████████████████████████████▍           | 167221/208000 [22:52<05:53, 115.26it/s]"
     ]
    },
    {
     "name": "stdout",
     "output_type": "stream",
     "text": [
      "\n"
     ]
    },
    {
     "name": "stderr",
     "output_type": "stream",
     "text": [
      "loss: 0.0001:  81%|███████████████████████████████████████████████▋           | 168020/208000 [22:59<05:53, 112.95it/s]"
     ]
    },
    {
     "name": "stdout",
     "output_type": "stream",
     "text": [
      "\n"
     ]
    },
    {
     "name": "stderr",
     "output_type": "stream",
     "text": [
      "loss: 0.0002:  81%|███████████████████████████████████████████████▉           | 168820/208000 [23:06<05:47, 112.88it/s]"
     ]
    },
    {
     "name": "stdout",
     "output_type": "stream",
     "text": [
      "\n"
     ]
    },
    {
     "name": "stderr",
     "output_type": "stream",
     "text": [
      "loss: 0.0001:  82%|████████████████████████████████████████████████           | 169620/208000 [23:13<05:40, 112.68it/s]"
     ]
    },
    {
     "name": "stdout",
     "output_type": "stream",
     "text": [
      "\n"
     ]
    },
    {
     "name": "stderr",
     "output_type": "stream",
     "text": [
      "loss: 0.0000:  82%|████████████████████████████████████████████████▎          | 170419/208000 [23:20<05:39, 110.60it/s]"
     ]
    },
    {
     "name": "stdout",
     "output_type": "stream",
     "text": [
      "\n"
     ]
    },
    {
     "name": "stderr",
     "output_type": "stream",
     "text": [
      "loss: 0.0005:  82%|████████████████████████████████████████████████▌          | 171219/208000 [23:27<05:29, 111.68it/s]"
     ]
    },
    {
     "name": "stdout",
     "output_type": "stream",
     "text": [
      "\n"
     ]
    },
    {
     "name": "stderr",
     "output_type": "stream",
     "text": [
      "loss: 0.0000:  83%|████████████████████████████████████████████████▊          | 172020/208000 [23:35<05:18, 113.07it/s]"
     ]
    },
    {
     "name": "stdout",
     "output_type": "stream",
     "text": [
      "\n"
     ]
    },
    {
     "name": "stderr",
     "output_type": "stream",
     "text": [
      "loss: 0.0004:  83%|█████████████████████████████████████████████████          | 172820/208000 [23:42<05:14, 111.71it/s]"
     ]
    },
    {
     "name": "stdout",
     "output_type": "stream",
     "text": [
      "\n"
     ]
    },
    {
     "name": "stderr",
     "output_type": "stream",
     "text": [
      "loss: 0.0005:  83%|█████████████████████████████████████████████████▏         | 173620/208000 [23:49<04:59, 114.68it/s]"
     ]
    },
    {
     "name": "stdout",
     "output_type": "stream",
     "text": [
      "\n"
     ]
    },
    {
     "name": "stderr",
     "output_type": "stream",
     "text": [
      "loss: 0.0002:  84%|█████████████████████████████████████████████████▍         | 174420/208000 [23:56<04:50, 115.71it/s]"
     ]
    },
    {
     "name": "stdout",
     "output_type": "stream",
     "text": [
      "\n"
     ]
    },
    {
     "name": "stderr",
     "output_type": "stream",
     "text": [
      "loss: 0.0003:  84%|█████████████████████████████████████████████████▋         | 175220/208000 [24:03<04:51, 112.52it/s]"
     ]
    },
    {
     "name": "stdout",
     "output_type": "stream",
     "text": [
      "\n"
     ]
    },
    {
     "name": "stderr",
     "output_type": "stream",
     "text": [
      "loss: 0.0108:  85%|█████████████████████████████████████████████████▉         | 176019/208000 [24:10<04:48, 110.79it/s]"
     ]
    },
    {
     "name": "stdout",
     "output_type": "stream",
     "text": [
      "Saving model for 128 steps\n",
      "doubling jump size: 256\n",
      "\n"
     ]
    },
    {
     "name": "stderr",
     "output_type": "stream",
     "text": [
      "loss: 0.0005:  85%|██████████████████████████████████████████████████▏        | 176820/208000 [24:17<04:36, 112.65it/s]"
     ]
    },
    {
     "name": "stdout",
     "output_type": "stream",
     "text": [
      "\n"
     ]
    },
    {
     "name": "stderr",
     "output_type": "stream",
     "text": [
      "loss: 0.0006:  85%|██████████████████████████████████████████████████▍        | 177620/208000 [24:24<04:34, 110.57it/s]"
     ]
    },
    {
     "name": "stdout",
     "output_type": "stream",
     "text": [
      "\n"
     ]
    },
    {
     "name": "stderr",
     "output_type": "stream",
     "text": [
      "loss: 0.0003:  86%|██████████████████████████████████████████████████▌        | 178420/208000 [24:31<04:17, 114.97it/s]"
     ]
    },
    {
     "name": "stdout",
     "output_type": "stream",
     "text": [
      "\n"
     ]
    },
    {
     "name": "stderr",
     "output_type": "stream",
     "text": [
      "loss: 0.0000:  86%|██████████████████████████████████████████████████▊        | 179220/208000 [24:38<04:15, 112.62it/s]"
     ]
    },
    {
     "name": "stdout",
     "output_type": "stream",
     "text": [
      "\n"
     ]
    },
    {
     "name": "stderr",
     "output_type": "stream",
     "text": [
      "loss: 0.0000:  87%|███████████████████████████████████████████████████        | 180019/208000 [24:45<04:07, 113.21it/s]"
     ]
    },
    {
     "name": "stdout",
     "output_type": "stream",
     "text": [
      "\n"
     ]
    },
    {
     "name": "stderr",
     "output_type": "stream",
     "text": [
      "loss: 0.0001:  87%|███████████████████████████████████████████████████▎       | 180819/208000 [24:52<04:09, 108.80it/s]"
     ]
    },
    {
     "name": "stdout",
     "output_type": "stream",
     "text": [
      "\n"
     ]
    },
    {
     "name": "stderr",
     "output_type": "stream",
     "text": [
      "loss: 0.0001:  87%|███████████████████████████████████████████████████▌       | 181618/208000 [24:59<03:58, 110.82it/s]"
     ]
    },
    {
     "name": "stdout",
     "output_type": "stream",
     "text": [
      "\n"
     ]
    },
    {
     "name": "stderr",
     "output_type": "stream",
     "text": [
      "loss: 0.0000:  88%|███████████████████████████████████████████████████▋       | 182420/208000 [25:06<03:47, 112.59it/s]"
     ]
    },
    {
     "name": "stdout",
     "output_type": "stream",
     "text": [
      "\n"
     ]
    },
    {
     "name": "stderr",
     "output_type": "stream",
     "text": [
      "loss: 0.0001:  88%|███████████████████████████████████████████████████▉       | 183218/208000 [25:14<03:43, 111.10it/s]"
     ]
    },
    {
     "name": "stdout",
     "output_type": "stream",
     "text": [
      "\n"
     ]
    },
    {
     "name": "stderr",
     "output_type": "stream",
     "text": [
      "loss: 0.0000:  88%|████████████████████████████████████████████████████▏      | 184020/208000 [25:21<03:35, 111.10it/s]"
     ]
    },
    {
     "name": "stdout",
     "output_type": "stream",
     "text": [
      "\n"
     ]
    },
    {
     "name": "stderr",
     "output_type": "stream",
     "text": [
      "loss: 0.0000:  89%|████████████████████████████████████████████████████▍      | 184820/208000 [25:28<03:37, 106.66it/s]"
     ]
    },
    {
     "name": "stdout",
     "output_type": "stream",
     "text": [
      "\n"
     ]
    },
    {
     "name": "stderr",
     "output_type": "stream",
     "text": [
      "loss: 0.0000:  89%|████████████████████████████████████████████████████▋      | 185619/208000 [25:35<03:18, 113.00it/s]"
     ]
    },
    {
     "name": "stdout",
     "output_type": "stream",
     "text": [
      "\n"
     ]
    },
    {
     "name": "stderr",
     "output_type": "stream",
     "text": [
      "loss: 0.0007:  90%|████████████████████████████████████████████████████▉      | 186419/208000 [25:42<03:11, 112.77it/s]"
     ]
    },
    {
     "name": "stdout",
     "output_type": "stream",
     "text": [
      "\n"
     ]
    },
    {
     "name": "stderr",
     "output_type": "stream",
     "text": [
      "loss: 0.0002:  90%|█████████████████████████████████████████████████████      | 187221/208000 [25:49<03:04, 112.89it/s]"
     ]
    },
    {
     "name": "stdout",
     "output_type": "stream",
     "text": [
      "\n"
     ]
    },
    {
     "name": "stderr",
     "output_type": "stream",
     "text": [
      "loss: 0.0000:  90%|█████████████████████████████████████████████████████▎     | 188019/208000 [25:56<02:57, 112.28it/s]"
     ]
    },
    {
     "name": "stdout",
     "output_type": "stream",
     "text": [
      "\n"
     ]
    },
    {
     "name": "stderr",
     "output_type": "stream",
     "text": [
      "loss: 0.0003:  91%|█████████████████████████████████████████████████████▌     | 188821/208000 [26:03<02:49, 113.20it/s]"
     ]
    },
    {
     "name": "stdout",
     "output_type": "stream",
     "text": [
      "\n"
     ]
    },
    {
     "name": "stderr",
     "output_type": "stream",
     "text": [
      "loss: 0.0001:  91%|█████████████████████████████████████████████████████▊     | 189620/208000 [26:10<02:42, 113.22it/s]"
     ]
    },
    {
     "name": "stdout",
     "output_type": "stream",
     "text": [
      "\n"
     ]
    },
    {
     "name": "stderr",
     "output_type": "stream",
     "text": [
      "loss: 0.0001:  92%|██████████████████████████████████████████████████████     | 190421/208000 [26:17<02:35, 113.29it/s]"
     ]
    },
    {
     "name": "stdout",
     "output_type": "stream",
     "text": [
      "\n"
     ]
    },
    {
     "name": "stderr",
     "output_type": "stream",
     "text": [
      "loss: 0.0005:  92%|██████████████████████████████████████████████████████▏    | 191220/208000 [26:24<02:26, 114.82it/s]"
     ]
    },
    {
     "name": "stdout",
     "output_type": "stream",
     "text": [
      "\n"
     ]
    },
    {
     "name": "stderr",
     "output_type": "stream",
     "text": [
      "loss: 0.1050:  92%|██████████████████████████████████████████████████████▍    | 192018/208000 [26:31<02:24, 110.83it/s]"
     ]
    },
    {
     "name": "stdout",
     "output_type": "stream",
     "text": [
      "Saving model for 256 steps\n",
      "doubling jump size: 512\n",
      "\n"
     ]
    },
    {
     "name": "stderr",
     "output_type": "stream",
     "text": [
      "loss: 0.0076:  93%|██████████████████████████████████████████████████████▋    | 192820/208000 [26:38<02:15, 112.26it/s]"
     ]
    },
    {
     "name": "stdout",
     "output_type": "stream",
     "text": [
      "\n"
     ]
    },
    {
     "name": "stderr",
     "output_type": "stream",
     "text": [
      "loss: 0.0023:  93%|██████████████████████████████████████████████████████▉    | 193620/208000 [26:45<02:07, 113.11it/s]"
     ]
    },
    {
     "name": "stdout",
     "output_type": "stream",
     "text": [
      "\n"
     ]
    },
    {
     "name": "stderr",
     "output_type": "stream",
     "text": [
      "loss: 0.0082:  93%|███████████████████████████████████████████████████████▏   | 194420/208000 [26:52<01:59, 113.63it/s]"
     ]
    },
    {
     "name": "stdout",
     "output_type": "stream",
     "text": [
      "\n"
     ]
    },
    {
     "name": "stderr",
     "output_type": "stream",
     "text": [
      "loss: 0.0039:  94%|███████████████████████████████████████████████████████▎   | 195220/208000 [27:00<01:54, 111.78it/s]"
     ]
    },
    {
     "name": "stdout",
     "output_type": "stream",
     "text": [
      "\n"
     ]
    },
    {
     "name": "stderr",
     "output_type": "stream",
     "text": [
      "loss: 0.0017:  94%|███████████████████████████████████████████████████████▌   | 196020/208000 [27:07<01:46, 112.87it/s]"
     ]
    },
    {
     "name": "stdout",
     "output_type": "stream",
     "text": [
      "\n"
     ]
    },
    {
     "name": "stderr",
     "output_type": "stream",
     "text": [
      "loss: 0.0015:  95%|███████████████████████████████████████████████████████▊   | 196820/208000 [27:14<01:40, 111.17it/s]"
     ]
    },
    {
     "name": "stdout",
     "output_type": "stream",
     "text": [
      "\n"
     ]
    },
    {
     "name": "stderr",
     "output_type": "stream",
     "text": [
      "loss: 0.0153:  95%|████████████████████████████████████████████████████████   | 197619/208000 [27:21<01:32, 112.44it/s]"
     ]
    },
    {
     "name": "stdout",
     "output_type": "stream",
     "text": [
      "\n"
     ]
    },
    {
     "name": "stderr",
     "output_type": "stream",
     "text": [
      "loss: 0.0024:  95%|████████████████████████████████████████████████████████▎  | 198420/208000 [27:28<01:25, 111.98it/s]"
     ]
    },
    {
     "name": "stdout",
     "output_type": "stream",
     "text": [
      "\n"
     ]
    },
    {
     "name": "stderr",
     "output_type": "stream",
     "text": [
      "loss: 0.0036:  96%|████████████████████████████████████████████████████████▌  | 199219/208000 [27:35<01:18, 111.29it/s]"
     ]
    },
    {
     "name": "stdout",
     "output_type": "stream",
     "text": [
      "\n"
     ]
    },
    {
     "name": "stderr",
     "output_type": "stream",
     "text": [
      "loss: 0.0082:  96%|████████████████████████████████████████████████████████▋  | 200019/208000 [27:42<01:11, 111.24it/s]"
     ]
    },
    {
     "name": "stdout",
     "output_type": "stream",
     "text": [
      "\n"
     ]
    },
    {
     "name": "stderr",
     "output_type": "stream",
     "text": [
      "loss: 0.0035:  97%|████████████████████████████████████████████████████████▉  | 200820/208000 [27:49<01:04, 111.29it/s]"
     ]
    },
    {
     "name": "stdout",
     "output_type": "stream",
     "text": [
      "\n"
     ]
    },
    {
     "name": "stderr",
     "output_type": "stream",
     "text": [
      "loss: 0.0012:  97%|█████████████████████████████████████████████████████████▏ | 201620/208000 [27:56<00:57, 111.75it/s]"
     ]
    },
    {
     "name": "stdout",
     "output_type": "stream",
     "text": [
      "\n"
     ]
    },
    {
     "name": "stderr",
     "output_type": "stream",
     "text": [
      "loss: 0.0010:  97%|█████████████████████████████████████████████████████████▍ | 202420/208000 [28:04<00:49, 112.91it/s]"
     ]
    },
    {
     "name": "stdout",
     "output_type": "stream",
     "text": [
      "\n"
     ]
    },
    {
     "name": "stderr",
     "output_type": "stream",
     "text": [
      "loss: 0.0015:  98%|█████████████████████████████████████████████████████████▋ | 203220/208000 [28:11<00:42, 112.78it/s]"
     ]
    },
    {
     "name": "stdout",
     "output_type": "stream",
     "text": [
      "\n"
     ]
    },
    {
     "name": "stderr",
     "output_type": "stream",
     "text": [
      "loss: 0.0033:  98%|█████████████████████████████████████████████████████████▊ | 204019/208000 [28:18<00:35, 110.90it/s]"
     ]
    },
    {
     "name": "stdout",
     "output_type": "stream",
     "text": [
      "\n"
     ]
    },
    {
     "name": "stderr",
     "output_type": "stream",
     "text": [
      "loss: 0.0010:  98%|██████████████████████████████████████████████████████████ | 204820/208000 [28:25<00:29, 109.61it/s]"
     ]
    },
    {
     "name": "stdout",
     "output_type": "stream",
     "text": [
      "\n"
     ]
    },
    {
     "name": "stderr",
     "output_type": "stream",
     "text": [
      "loss: 0.0009:  99%|██████████████████████████████████████████████████████████▎| 205619/208000 [28:32<00:21, 110.88it/s]"
     ]
    },
    {
     "name": "stdout",
     "output_type": "stream",
     "text": [
      "\n"
     ]
    },
    {
     "name": "stderr",
     "output_type": "stream",
     "text": [
      "loss: 0.0015:  99%|██████████████████████████████████████████████████████████▌| 206420/208000 [28:39<00:14, 111.75it/s]"
     ]
    },
    {
     "name": "stdout",
     "output_type": "stream",
     "text": [
      "\n"
     ]
    },
    {
     "name": "stderr",
     "output_type": "stream",
     "text": [
      "loss: 0.0010: 100%|██████████████████████████████████████████████████████████▊| 207219/208000 [28:46<00:06, 112.59it/s]"
     ]
    },
    {
     "name": "stdout",
     "output_type": "stream",
     "text": [
      "\n"
     ]
    },
    {
     "name": "stderr",
     "output_type": "stream",
     "text": [
      "loss: 0.0017: 100%|███████████████████████████████████████████████████████████| 208000/208000 [28:53<00:00, 119.98it/s]"
     ]
    },
    {
     "name": "stdout",
     "output_type": "stream",
     "text": [
      "Saving model for 512 steps\n",
      "done training\n"
     ]
    },
    {
     "name": "stderr",
     "output_type": "stream",
     "text": [
      "\n"
     ]
    }
   ],
   "source": [
    "\n",
    "with tqdm(initial=step, total=sum(epochs) * len(dl)) as pbar:\n",
    "    while not done:\n",
    "        losses = []\n",
    "        for batch in dl:\n",
    "            batch = batch.to(device)\n",
    "\n",
    "            loss = diffusion(batch)\n",
    "            loss.backward()\n",
    "            losses.append(loss.cpu().item())\n",
    "\n",
    "            pbar.set_description(f'loss: {np.mean(losses):.4f}')\n",
    "\n",
    "            optimizer.step()\n",
    "            optimizer.zero_grad()\n",
    "\n",
    "            step += 1\n",
    "            pbar.update(1)\n",
    "\n",
    "        epochs[0] -= 1\n",
    "        if epochs[0] == 0:\n",
    "            print(f\"Saving model for {diffusion.jumpsize.item()} steps\")\n",
    "            models.append(deepcopy(diffusion))\n",
    "            epochs.pop(0)\n",
    "            if len(epochs) == 0:\n",
    "                break\n",
    "            print(f\"doubling jump size: {diffusion.jumpsize.item()*2}\")\n",
    "            diffusion.double_jump_size()\n",
    "\n",
    "        if step % (len(dl) * 50) == 0:\n",
    "            print(\"\")\n",
    "                  \n",
    "print(\"done training\")\n"
   ]
  },
  {
   "cell_type": "code",
   "execution_count": null,
   "outputs": [],
   "source": [
    "print(len(models))\n",
    "hists = []\n",
    "for model in models:\n",
    "    sampled_images = model.sample(batch_size=2000)\n",
    "    print(sampled_images.shape)  # (4, 3, 128, 128)\n",
    "    sampled_images = sampled_images[:, 0, 0, 0]\n",
    "    # print(sampled_images)\n",
    "    hist, _ = np.histogram(sampled_images.cpu().numpy(), density=True, bins=200)\n",
    "    hist /= hist.max()\n",
    "    hists.append(hist)\n",
    "    plt.hist(sampled_images.cpu().numpy(), density=True, bins=100)\n",
    "    plt.show()\n",
    "imdata = np.stack(hists)\n",
    "plt.imshow(imdata)\n",
    "plt.show()"
   ],
   "metadata": {
    "collapsed": false,
    "pycharm": {
     "name": "#%%\n"
    }
   }
  },
  {
   "cell_type": "code",
   "execution_count": null,
   "outputs": [],
   "source": [
    "def show_trajectories(diffusion, faststeps=10, numtraj=5, range=(-1, 1)):\n",
    "    x_T = np.linspace(range[0], range[1], numtraj)\n",
    "    diffusion.is_ddim_sampling = True\n",
    "    diffusion.ddim_sampling_eta = 0\n",
    "    diffusion.sampling_timesteps = timesteps\n",
    "    \n",
    "    sampled_images, times, imgacc, x0acc = diffusion.ddim_sample((numtraj, 1,1,1), \n",
    "                                                                 x_T=torch.tensor(x_T)[:, None, None, None].to(torch.float)\n",
    "                                                                     .to(diffusion.betas.device))\n",
    "    \n",
    "    print(len(times), len(imgacc))\n",
    "    \n",
    "    trajs = [[x_t_i] for x_t_i in unnormalize_to_zero_to_one(x_T)]\n",
    "    \n",
    "    for img in imgacc:\n",
    "        img = img[:,0,0,0].cpu().numpy()\n",
    "        for img_i, traj in zip(img, trajs):\n",
    "            traj.append(img_i)\n",
    "        \n",
    "    fig = plt.figure(figsize = (15,10))\n",
    "    ax = fig.add_subplot(111)\n",
    "    for traj in trajs:\n",
    "        ax.plot(times, traj, \"blue\")\n",
    "    ax.set_title('trajectories')\n",
    "    \n",
    "    diffusion.sampling_timesteps = faststeps\n",
    "    \n",
    "    sampled_images, times, imgacc, x0acc = diffusion.ddim_sample((numtraj, 1,1,1), \n",
    "                                                                 x_T=torch.tensor(x_T)[:, None, None, None].to(torch.float)\n",
    "                                                                     .to(diffusion.betas.device))\n",
    "    \n",
    "    print(len(times), len(imgacc))\n",
    "    \n",
    "    trajs = [[x_t_i] for x_t_i in unnormalize_to_zero_to_one(x_T)]\n",
    "    \n",
    "    for img in imgacc:\n",
    "        img = img[:,0,0,0].cpu().numpy()\n",
    "        for img_i, traj in zip(img, trajs):\n",
    "            traj.append(img_i)\n",
    "        \n",
    "    for traj in trajs:\n",
    "        ax.plot(times, traj, \"ro-\")\n",
    "    ax.set_title('trajectories')\n",
    "\n",
    "    plt.show()\n",
    "\n",
    "    return trajs"
   ],
   "metadata": {
    "collapsed": false,
    "pycharm": {
     "name": "#%%\n"
    }
   }
  }
 ],
 "metadata": {
  "kernelspec": {
   "display_name": "Python 3 (ipykernel)",
   "language": "python",
   "name": "python3"
  },
  "language_info": {
   "codemirror_mode": {
    "name": "ipython",
    "version": 3
   },
   "file_extension": ".py",
   "mimetype": "text/x-python",
   "name": "python",
   "nbconvert_exporter": "python",
   "pygments_lexer": "ipython3",
   "version": "3.9.12"
  }
 },
 "nbformat": 4,
 "nbformat_minor": 1
}